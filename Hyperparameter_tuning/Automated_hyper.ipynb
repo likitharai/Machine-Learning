{
 "cells": [
  {
   "cell_type": "code",
   "execution_count": 62,
   "id": "08d94fc3",
   "metadata": {},
   "outputs": [],
   "source": [
    "from sklearn.datasets import load_iris\n",
    "from sklearn.model_selection import train_test_split,GridSearchCV,RandomizedSearchCV\n",
    "from sklearn.svm import SVC\n",
    "from sklearn.ensemble import GradientBoostingClassifier \n",
    "from sklearn.metrics import accuracy_score\n",
    "import numpy as np"
   ]
  },
  {
   "cell_type": "code",
   "execution_count": 63,
   "id": "c5c630ee",
   "metadata": {},
   "outputs": [],
   "source": [
    "#load the dataset\n",
    "iris=load_iris()\n",
    "x,y=iris.data,iris.target"
   ]
  },
  {
   "cell_type": "code",
   "execution_count": 64,
   "id": "a0c72cc9",
   "metadata": {},
   "outputs": [],
   "source": [
    "#split the datset\n",
    "x_train,x_test,y_train,y_test=train_test_split(x,y,test_size=0.2,random_state=42)"
   ]
  },
  {
   "cell_type": "code",
   "execution_count": 65,
   "id": "f868a8fd",
   "metadata": {},
   "outputs": [],
   "source": [
    "# define the parameter\n",
    "param_grid={\n",
    "    'n_estimators':[50,100,150],\n",
    "    'learning_rate':[0.01,0.1,0.2],\n",
    "    'max_depth':[3,5,7]\n",
    "}"
   ]
  },
  {
   "cell_type": "code",
   "execution_count": 66,
   "id": "8bfaba88",
   "metadata": {},
   "outputs": [],
   "source": [
    "# initialize the grid search\n",
    "grid_search=GridSearchCV(\n",
    "    estimator=GradientBoostingClassifier(random_state=42),\n",
    "    cv=5,\n",
    "    n_jobs=-1,\n",
    "    param_grid=param_grid,\n",
    "    scoring='accuracy'\n",
    ")"
   ]
  },
  {
   "cell_type": "code",
   "execution_count": 67,
   "id": "c6a1e720",
   "metadata": {},
   "outputs": [
    {
     "name": "stdout",
     "output_type": "stream",
     "text": [
      "best score {'learning_rate': 0.01, 'max_depth': 3, 'n_estimators': 50}\n",
      "best score 0.95\n"
     ]
    }
   ],
   "source": [
    "#perform grid search\n",
    "grid_search.fit(x_train,y_train)\n",
    "y_pred=grid_search.predict(x_test)\n",
    "print('best score',grid_search.best_params_)\n",
    "print('best score',grid_search.best_score_)"
   ]
  },
  {
   "cell_type": "code",
   "execution_count": 68,
   "id": "c29b0ea2",
   "metadata": {},
   "outputs": [
    {
     "name": "stdout",
     "output_type": "stream",
     "text": [
      "accuracy_score 1.0\n",
      "best model GradientBoostingClassifier(learning_rate=0.01, n_estimators=50, random_state=42)\n"
     ]
    }
   ],
   "source": [
    "print('accuracy_score',accuracy_score(y_test,y_pred))\n",
    "print('best model',grid_search.best_estimator_)"
   ]
  },
  {
   "cell_type": "code",
   "execution_count": 69,
   "id": "f6fe8f5d",
   "metadata": {},
   "outputs": [],
   "source": [
    "# define parameter distribution\n",
    "param_dist={\n",
    "    'C':np.logspace(-3,3,10),\n",
    "    'kernel':['linear','rbf','poly','sigmoid'],\n",
    "    'gamma':['scalar','auto']\n",
    "}"
   ]
  },
  {
   "cell_type": "code",
   "execution_count": 70,
   "id": "6d6e5015",
   "metadata": {},
   "outputs": [],
   "source": [
    "#initialize randomized searchCV\n",
    "grid_search_r=RandomizedSearchCV(\n",
    "    estimator=SVC(random_state=42),\n",
    "    n_iter=20,\n",
    "    cv=5,\n",
    "    n_jobs=-1,\n",
    "    param_distributions=param_dist,\n",
    "    scoring='accuracy',\n",
    "    random_state=42\n",
    ")"
   ]
  },
  {
   "cell_type": "code",
   "execution_count": 71,
   "id": "fb58ad39",
   "metadata": {},
   "outputs": [
    {
     "name": "stdout",
     "output_type": "stream",
     "text": [
      "best score {'kernel': 'poly', 'gamma': 'auto', 'C': 0.021544346900318832}\n",
      "best score 0.9583333333333334\n",
      "accuracy_score 0.9666666666666667\n",
      "best model SVC(C=0.021544346900318832, gamma='auto', kernel='poly', random_state=42)\n"
     ]
    },
    {
     "name": "stderr",
     "output_type": "stream",
     "text": [
      "c:\\Users\\raich\\anaconda3\\Lib\\site-packages\\sklearn\\model_selection\\_validation.py:540: FitFailedWarning: \n",
      "45 fits failed out of a total of 100.\n",
      "The score on these train-test partitions for these parameters will be set to nan.\n",
      "If these failures are not expected, you can try to debug them by setting error_score='raise'.\n",
      "\n",
      "Below are more details about the failures:\n",
      "--------------------------------------------------------------------------------\n",
      "20 fits failed with the following error:\n",
      "Traceback (most recent call last):\n",
      "  File \"c:\\Users\\raich\\anaconda3\\Lib\\site-packages\\sklearn\\model_selection\\_validation.py\", line 888, in _fit_and_score\n",
      "    estimator.fit(X_train, y_train, **fit_params)\n",
      "  File \"c:\\Users\\raich\\anaconda3\\Lib\\site-packages\\sklearn\\base.py\", line 1466, in wrapper\n",
      "    estimator._validate_params()\n",
      "  File \"c:\\Users\\raich\\anaconda3\\Lib\\site-packages\\sklearn\\base.py\", line 666, in _validate_params\n",
      "    validate_parameter_constraints(\n",
      "  File \"c:\\Users\\raich\\anaconda3\\Lib\\site-packages\\sklearn\\utils\\_param_validation.py\", line 95, in validate_parameter_constraints\n",
      "    raise InvalidParameterError(\n",
      "sklearn.utils._param_validation.InvalidParameterError: The 'gamma' parameter of SVC must be a str among {'scale', 'auto'} or a float in the range [0.0, inf). Got 'scalar' instead.\n",
      "\n",
      "--------------------------------------------------------------------------------\n",
      "25 fits failed with the following error:\n",
      "Traceback (most recent call last):\n",
      "  File \"c:\\Users\\raich\\anaconda3\\Lib\\site-packages\\sklearn\\model_selection\\_validation.py\", line 888, in _fit_and_score\n",
      "    estimator.fit(X_train, y_train, **fit_params)\n",
      "  File \"c:\\Users\\raich\\anaconda3\\Lib\\site-packages\\sklearn\\base.py\", line 1466, in wrapper\n",
      "    estimator._validate_params()\n",
      "  File \"c:\\Users\\raich\\anaconda3\\Lib\\site-packages\\sklearn\\base.py\", line 666, in _validate_params\n",
      "    validate_parameter_constraints(\n",
      "  File \"c:\\Users\\raich\\anaconda3\\Lib\\site-packages\\sklearn\\utils\\_param_validation.py\", line 95, in validate_parameter_constraints\n",
      "    raise InvalidParameterError(\n",
      "sklearn.utils._param_validation.InvalidParameterError: The 'gamma' parameter of SVC must be a str among {'auto', 'scale'} or a float in the range [0.0, inf). Got 'scalar' instead.\n",
      "\n",
      "  warnings.warn(some_fits_failed_message, FitFailedWarning)\n",
      "c:\\Users\\raich\\anaconda3\\Lib\\site-packages\\sklearn\\model_selection\\_search.py:1102: UserWarning: One or more of the test scores are non-finite: [0.94166667        nan 0.95833333 0.275             nan 0.94166667\n",
      "        nan 0.94166667 0.45833333 0.725             nan        nan\n",
      "        nan        nan 0.95       0.95              nan 0.94166667\n",
      " 0.275             nan]\n",
      "  warnings.warn(\n"
     ]
    }
   ],
   "source": [
    "#perform grid search\n",
    "grid_search_r.fit(x_train,y_train)\n",
    "y_pred_r=grid_search_r.predict(x_test)\n",
    "print('best score',grid_search_r.best_params_)\n",
    "print('best score',grid_search_r.best_score_)\n",
    "print('accuracy_score',accuracy_score(y_test,y_pred_r))\n",
    "\n",
    "#best model\n",
    "best_model=grid_search_r.best_estimator_\n",
    "print('best model',best_model)"
   ]
  },
  {
   "cell_type": "code",
   "execution_count": null,
   "id": "f13063b0",
   "metadata": {},
   "outputs": [],
   "source": []
  },
  {
   "cell_type": "code",
   "execution_count": null,
   "id": "cef9381c",
   "metadata": {},
   "outputs": [],
   "source": []
  },
  {
   "cell_type": "code",
   "execution_count": null,
   "id": "6c79dce8",
   "metadata": {},
   "outputs": [],
   "source": []
  },
  {
   "cell_type": "code",
   "execution_count": null,
   "id": "06e9cd9a",
   "metadata": {},
   "outputs": [],
   "source": []
  },
  {
   "cell_type": "code",
   "execution_count": 72,
   "id": "127959f3",
   "metadata": {},
   "outputs": [],
   "source": [
    "gb=GradientBoostingClassifier(random_state=42)\n",
    "gb.fit(x_train,y_train)\n",
    "y_pred_gb=gb.predict(x_test)"
   ]
  },
  {
   "cell_type": "code",
   "execution_count": null,
   "id": "349206c7",
   "metadata": {},
   "outputs": [],
   "source": []
  }
 ],
 "metadata": {
  "kernelspec": {
   "display_name": "base",
   "language": "python",
   "name": "python3"
  },
  "language_info": {
   "codemirror_mode": {
    "name": "ipython",
    "version": 3
   },
   "file_extension": ".py",
   "mimetype": "text/x-python",
   "name": "python",
   "nbconvert_exporter": "python",
   "pygments_lexer": "ipython3",
   "version": "3.12.7"
  }
 },
 "nbformat": 4,
 "nbformat_minor": 5
}
