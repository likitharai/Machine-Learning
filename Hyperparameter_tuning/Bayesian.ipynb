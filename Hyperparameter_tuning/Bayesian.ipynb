{
 "cells": [
  {
   "cell_type": "code",
   "execution_count": 9,
   "id": "b1d58a43",
   "metadata": {},
   "outputs": [
    {
     "name": "stdout",
     "output_type": "stream",
     "text": [
      "Collecting optuna\n",
      "  Downloading optuna-4.4.0-py3-none-any.whl.metadata (17 kB)\n",
      "Requirement already satisfied: alembic>=1.5.0 in c:\\users\\raich\\anaconda3\\lib\\site-packages (from optuna) (1.13.3)\n",
      "Collecting colorlog (from optuna)\n",
      "  Downloading colorlog-6.9.0-py3-none-any.whl.metadata (10 kB)\n",
      "Requirement already satisfied: numpy in c:\\users\\raich\\anaconda3\\lib\\site-packages (from optuna) (1.26.4)\n",
      "Requirement already satisfied: packaging>=20.0 in c:\\users\\raich\\anaconda3\\lib\\site-packages (from optuna) (24.1)\n",
      "Requirement already satisfied: sqlalchemy>=1.4.2 in c:\\users\\raich\\anaconda3\\lib\\site-packages (from optuna) (2.0.34)\n",
      "Requirement already satisfied: tqdm in c:\\users\\raich\\anaconda3\\lib\\site-packages (from optuna) (4.66.5)\n",
      "Requirement already satisfied: PyYAML in c:\\users\\raich\\anaconda3\\lib\\site-packages (from optuna) (6.0.1)\n",
      "Requirement already satisfied: Mako in c:\\users\\raich\\anaconda3\\lib\\site-packages (from alembic>=1.5.0->optuna) (1.2.3)\n",
      "Requirement already satisfied: typing-extensions>=4 in c:\\users\\raich\\anaconda3\\lib\\site-packages (from alembic>=1.5.0->optuna) (4.11.0)\n",
      "Requirement already satisfied: greenlet!=0.4.17 in c:\\users\\raich\\anaconda3\\lib\\site-packages (from sqlalchemy>=1.4.2->optuna) (3.0.1)\n",
      "Requirement already satisfied: colorama in c:\\users\\raich\\anaconda3\\lib\\site-packages (from colorlog->optuna) (0.4.6)\n",
      "Requirement already satisfied: MarkupSafe>=0.9.2 in c:\\users\\raich\\anaconda3\\lib\\site-packages (from Mako->alembic>=1.5.0->optuna) (2.1.3)\n",
      "Downloading optuna-4.4.0-py3-none-any.whl (395 kB)\n",
      "Downloading colorlog-6.9.0-py3-none-any.whl (11 kB)\n",
      "Installing collected packages: colorlog, optuna\n",
      "Successfully installed colorlog-6.9.0 optuna-4.4.0\n",
      "Note: you may need to restart the kernel to use updated packages.\n"
     ]
    }
   ],
   "source": [
    "pip install optuna"
   ]
  },
  {
   "cell_type": "code",
   "execution_count": 17,
   "id": "352947f9",
   "metadata": {},
   "outputs": [],
   "source": [
    "from sklearn.datasets import load_breast_cancer\n",
    "from sklearn.model_selection import train_test_split\n",
    "from sklearn.preprocessing import StandardScaler\n",
    "from xgboost import XGBClassifier\n",
    "from sklearn.metrics import accuracy_score\n",
    "import optuna\n",
    "from sklearn.model_selection import train_test_split,GridSearchCV,RandomizedSearchCV"
   ]
  },
  {
   "cell_type": "code",
   "execution_count": 2,
   "id": "6a254930",
   "metadata": {},
   "outputs": [],
   "source": [
    "data= load_breast_cancer()\n",
    "x,y= data.data, data.target"
   ]
  },
  {
   "cell_type": "code",
   "execution_count": 3,
   "id": "c9b3d417",
   "metadata": {},
   "outputs": [],
   "source": [
    "# split data\n",
    "x_train,x_test,y_train,y_test=train_test_split(x,y,test_size=0.2,random_state=42)"
   ]
  },
  {
   "cell_type": "code",
   "execution_count": 4,
   "id": "76b335dd",
   "metadata": {},
   "outputs": [],
   "source": [
    "#standardize data\n",
    "scaler = StandardScaler()\n",
    "x_train = scaler.fit_transform(x_train)\n",
    "x_test = scaler.transform(x_test)\n"
   ]
  },
  {
   "cell_type": "code",
   "execution_count": 6,
   "id": "bd16726e",
   "metadata": {},
   "outputs": [
    {
     "data": {
      "text/plain": [
       "((455, 30), (114, 30), (455,), (114,))"
      ]
     },
     "execution_count": 6,
     "metadata": {},
     "output_type": "execute_result"
    }
   ],
   "source": [
    "x_train.shape, x_test.shape, y_train.shape, y_test.shape"
   ]
  },
  {
   "cell_type": "code",
   "execution_count": 8,
   "id": "b2ee912a",
   "metadata": {},
   "outputs": [
    {
     "name": "stdout",
     "output_type": "stream",
     "text": [
      "Accuracy: 0.96\n"
     ]
    }
   ],
   "source": [
    "#train model\n",
    "model = XGBClassifier( eval_metric='logloss',random_state=42)\n",
    "model.fit(x_train, y_train)\n",
    "\n",
    "#predict\n",
    "y_pred = model.predict(x_test)\n",
    "#evaluate\n",
    "accuracy = accuracy_score(y_test, y_pred)\n",
    "print(f\"Accuracy: {accuracy:.2f}\")"
   ]
  },
  {
   "cell_type": "code",
   "execution_count": 13,
   "id": "9a82b59b",
   "metadata": {},
   "outputs": [],
   "source": [
    "# DEFINE OBJECTIVE FUNCTION for OPTUNA\n",
    "def objective(trial):\n",
    "    # Define hyperparameters to tune\n",
    "    params = {\n",
    "        'n_estimators': trial.suggest_int('n_estimators', 50, 500, step=50),\n",
    "        'max_depth': trial.suggest_int('max_depth', 3, 10),\n",
    "        'learning_rate': trial.suggest_float('learning_rate', 0.01, 0.3, log=True),\n",
    "        'subsample': trial.suggest_float('subsample', 0.5, 1.0),\n",
    "        'colsample_bytree': trial.suggest_float('colsample_bytree', 0.5, 1.0),\n",
    "        'gamma':trial.suggest_float('gamma',0,5),\n",
    "        'reg_alpha': trial.suggest_float('reg_alpha', 0, 1),\n",
    "        'reg_lambda': trial.suggest_float('reg_lambda', 0, 1)\n",
    "    }\n",
    "    \n",
    "    # Train model\n",
    "    model = XGBClassifier(**params,eval_metric='logloss', random_state=42)\n",
    "    model.fit(x_train, y_train)\n",
    "    \n",
    "    # Evaluate model on validation\n",
    "    accuracy = accuracy_score(y_test, model.predict(x_test))\n",
    "    \n",
    "    return accuracy"
   ]
  },
  {
   "cell_type": "code",
   "execution_count": 14,
   "id": "4482cbe2",
   "metadata": {},
   "outputs": [
    {
     "name": "stderr",
     "output_type": "stream",
     "text": [
      "[I 2025-07-17 21:19:54,173] A new study created in memory with name: no-name-484185c1-8f46-4721-ab14-ff0e0a133be8\n",
      "[I 2025-07-17 21:19:54,361] Trial 0 finished with value: 0.956140350877193 and parameters: {'n_estimators': 100, 'max_depth': 6, 'learning_rate': 0.043564405589547626, 'subsample': 0.7728591495881039, 'colsample_bytree': 0.7953311321121503, 'gamma': 4.347502971246753, 'reg_alpha': 0.17110927697309064, 'reg_lambda': 0.2313596764295045}. Best is trial 0 with value: 0.956140350877193.\n",
      "[I 2025-07-17 21:19:54,571] Trial 1 finished with value: 0.956140350877193 and parameters: {'n_estimators': 400, 'max_depth': 4, 'learning_rate': 0.16804380017935347, 'subsample': 0.7313848406784691, 'colsample_bytree': 0.8327347510452855, 'gamma': 2.7256667248297033, 'reg_alpha': 0.4607292069640574, 'reg_lambda': 0.45646571995268637}. Best is trial 0 with value: 0.956140350877193.\n",
      "[I 2025-07-17 21:19:54,728] Trial 2 finished with value: 0.9736842105263158 and parameters: {'n_estimators': 350, 'max_depth': 9, 'learning_rate': 0.21279523841089928, 'subsample': 0.6066984195112408, 'colsample_bytree': 0.5959865648214835, 'gamma': 4.800865650912582, 'reg_alpha': 0.029359571299992226, 'reg_lambda': 0.9052344479388613}. Best is trial 2 with value: 0.9736842105263158.\n",
      "[I 2025-07-17 21:19:54,884] Trial 3 finished with value: 0.956140350877193 and parameters: {'n_estimators': 250, 'max_depth': 4, 'learning_rate': 0.12130537958226756, 'subsample': 0.8433176392435603, 'colsample_bytree': 0.9218572494291093, 'gamma': 0.9210695210773595, 'reg_alpha': 0.28967689814607744, 'reg_lambda': 0.15901706271569904}. Best is trial 2 with value: 0.9736842105263158.\n",
      "[I 2025-07-17 21:19:55,315] Trial 4 finished with value: 0.9649122807017544 and parameters: {'n_estimators': 350, 'max_depth': 8, 'learning_rate': 0.020269310832569713, 'subsample': 0.7724063324056246, 'colsample_bytree': 0.5266838804275067, 'gamma': 0.6308402491710274, 'reg_alpha': 0.9907106540571244, 'reg_lambda': 0.6590960002302615}. Best is trial 2 with value: 0.9736842105263158.\n",
      "[I 2025-07-17 21:19:55,498] Trial 5 finished with value: 0.956140350877193 and parameters: {'n_estimators': 100, 'max_depth': 10, 'learning_rate': 0.02026618899986194, 'subsample': 0.9952007710021833, 'colsample_bytree': 0.9925123739923472, 'gamma': 1.567754924660526, 'reg_alpha': 0.478526684024667, 'reg_lambda': 0.33192743614777365}. Best is trial 2 with value: 0.9736842105263158.\n",
      "[I 2025-07-17 21:19:55,969] Trial 6 finished with value: 0.956140350877193 and parameters: {'n_estimators': 300, 'max_depth': 5, 'learning_rate': 0.01794532602166313, 'subsample': 0.8212945940273403, 'colsample_bytree': 0.8698339109366844, 'gamma': 0.17700349327625486, 'reg_alpha': 0.4340470352305875, 'reg_lambda': 0.20443515122278733}. Best is trial 2 with value: 0.9736842105263158.\n",
      "[I 2025-07-17 21:19:56,328] Trial 7 finished with value: 0.9649122807017544 and parameters: {'n_estimators': 350, 'max_depth': 9, 'learning_rate': 0.021969693963285446, 'subsample': 0.6861851794576458, 'colsample_bytree': 0.5395267812410487, 'gamma': 1.0913563839295333, 'reg_alpha': 0.22214489623517508, 'reg_lambda': 0.8938102089473001}. Best is trial 2 with value: 0.9736842105263158.\n",
      "[I 2025-07-17 21:19:56,638] Trial 8 finished with value: 0.956140350877193 and parameters: {'n_estimators': 350, 'max_depth': 4, 'learning_rate': 0.03283031574821252, 'subsample': 0.9446245931146025, 'colsample_bytree': 0.6655090786482536, 'gamma': 0.3245408989259396, 'reg_alpha': 0.30013939589418526, 'reg_lambda': 0.29686627562240575}. Best is trial 2 with value: 0.9736842105263158.\n",
      "[I 2025-07-17 21:19:57,057] Trial 9 finished with value: 0.9649122807017544 and parameters: {'n_estimators': 500, 'max_depth': 8, 'learning_rate': 0.013047257121309101, 'subsample': 0.5896903692215365, 'colsample_bytree': 0.5461242075431715, 'gamma': 2.24267787478883, 'reg_alpha': 0.4411293176390082, 'reg_lambda': 0.266023262678344}. Best is trial 2 with value: 0.9736842105263158.\n",
      "[I 2025-07-17 21:19:57,207] Trial 10 finished with value: 0.9649122807017544 and parameters: {'n_estimators': 200, 'max_depth': 7, 'learning_rate': 0.24986207979505445, 'subsample': 0.5150509221274564, 'colsample_bytree': 0.6580703361340822, 'gamma': 4.93594019067268, 'reg_alpha': 0.7402037880212002, 'reg_lambda': 0.9975545112627336}. Best is trial 2 with value: 0.9736842105263158.\n",
      "[I 2025-07-17 21:19:57,417] Trial 11 finished with value: 0.9649122807017544 and parameters: {'n_estimators': 450, 'max_depth': 8, 'learning_rate': 0.08925667670638207, 'subsample': 0.6425152365120308, 'colsample_bytree': 0.5026794272732148, 'gamma': 3.5092138748472728, 'reg_alpha': 0.001451035714991722, 'reg_lambda': 0.743013342236527}. Best is trial 2 with value: 0.9736842105263158.\n",
      "[I 2025-07-17 21:19:57,572] Trial 12 finished with value: 0.956140350877193 and parameters: {'n_estimators': 200, 'max_depth': 9, 'learning_rate': 0.06792472056582342, 'subsample': 0.573834901365184, 'colsample_bytree': 0.6362021724474035, 'gamma': 3.6891046184145626, 'reg_alpha': 0.8813090607471905, 'reg_lambda': 0.6908004137027471}. Best is trial 2 with value: 0.9736842105263158.\n",
      "[I 2025-07-17 21:19:57,764] Trial 13 finished with value: 0.956140350877193 and parameters: {'n_estimators': 400, 'max_depth': 10, 'learning_rate': 0.2911306697756032, 'subsample': 0.8701355470422987, 'colsample_bytree': 0.5839078425153321, 'gamma': 2.431574103795886, 'reg_alpha': 0.9841499187940581, 'reg_lambda': 0.6426135898256228}. Best is trial 2 with value: 0.9736842105263158.\n",
      "[I 2025-07-17 21:19:58,057] Trial 14 finished with value: 0.956140350877193 and parameters: {'n_estimators': 300, 'max_depth': 7, 'learning_rate': 0.010257556952748553, 'subsample': 0.6842206673669828, 'colsample_bytree': 0.7091567729112894, 'gamma': 3.4162284800763416, 'reg_alpha': 0.6758937008865348, 'reg_lambda': 0.8282046881333957}. Best is trial 2 with value: 0.9736842105263158.\n",
      "[I 2025-07-17 21:19:58,333] Trial 15 finished with value: 0.9649122807017544 and parameters: {'n_estimators': 500, 'max_depth': 8, 'learning_rate': 0.03698809293984424, 'subsample': 0.502029343890851, 'colsample_bytree': 0.6004755935402828, 'gamma': 1.9864974413369256, 'reg_alpha': 0.6795256960873431, 'reg_lambda': 0.5607072498279638}. Best is trial 2 with value: 0.9736842105263158.\n",
      "[I 2025-07-17 21:19:58,550] Trial 16 finished with value: 0.956140350877193 and parameters: {'n_estimators': 400, 'max_depth': 9, 'learning_rate': 0.06626514543997163, 'subsample': 0.7681480741850657, 'colsample_bytree': 0.7191210979494199, 'gamma': 4.814211105666978, 'reg_alpha': 0.00558635120960695, 'reg_lambda': 0.9759737352187955}. Best is trial 2 with value: 0.9736842105263158.\n",
      "[I 2025-07-17 21:19:58,692] Trial 17 finished with value: 0.9736842105263158 and parameters: {'n_estimators': 200, 'max_depth': 6, 'learning_rate': 0.16313383177133994, 'subsample': 0.5969874888035368, 'colsample_bytree': 0.5066460197902506, 'gamma': 3.1070809447117975, 'reg_alpha': 0.8355836747169854, 'reg_lambda': 0.8095599921538952}. Best is trial 2 with value: 0.9736842105263158.\n",
      "[I 2025-07-17 21:19:58,815] Trial 18 finished with value: 0.9649122807017544 and parameters: {'n_estimators': 150, 'max_depth': 6, 'learning_rate': 0.16489118496505653, 'subsample': 0.5884442201563622, 'colsample_bytree': 0.5874250129520153, 'gamma': 4.180633598396819, 'reg_alpha': 0.7931128916028009, 'reg_lambda': 0.8187881172243242}. Best is trial 2 with value: 0.9736842105263158.\n",
      "[I 2025-07-17 21:19:58,917] Trial 19 finished with value: 0.956140350877193 and parameters: {'n_estimators': 50, 'max_depth': 3, 'learning_rate': 0.17956163967215752, 'subsample': 0.6386528718569077, 'colsample_bytree': 0.7581828679200784, 'gamma': 2.8784382626661658, 'reg_alpha': 0.6082742941771765, 'reg_lambda': 0.5490723394407082}. Best is trial 2 with value: 0.9736842105263158.\n",
      "[I 2025-07-17 21:19:59,070] Trial 20 finished with value: 0.9649122807017544 and parameters: {'n_estimators': 250, 'max_depth': 5, 'learning_rate': 0.10933171710529611, 'subsample': 0.55750566655548, 'colsample_bytree': 0.6068431965290986, 'gamma': 4.187645822739929, 'reg_alpha': 0.5750538323103564, 'reg_lambda': 0.011214005554123552}. Best is trial 2 with value: 0.9736842105263158.\n",
      "[I 2025-07-17 21:19:59,284] Trial 21 finished with value: 0.9736842105263158 and parameters: {'n_estimators': 350, 'max_depth': 7, 'learning_rate': 0.23255479689682346, 'subsample': 0.6462232349627832, 'colsample_bytree': 0.5092567584542536, 'gamma': 3.0709252472961692, 'reg_alpha': 0.9974832487643356, 'reg_lambda': 0.7710813296049148}. Best is trial 2 with value: 0.9736842105263158.\n",
      "[I 2025-07-17 21:19:59,435] Trial 22 finished with value: 0.9649122807017544 and parameters: {'n_estimators': 200, 'max_depth': 7, 'learning_rate': 0.21456912353074448, 'subsample': 0.6438871909787562, 'colsample_bytree': 0.5035057123340992, 'gamma': 3.1174870416597034, 'reg_alpha': 0.8551958050606849, 'reg_lambda': 0.887297494269388}. Best is trial 2 with value: 0.9736842105263158.\n",
      "[I 2025-07-17 21:19:59,657] Trial 23 finished with value: 0.9649122807017544 and parameters: {'n_estimators': 300, 'max_depth': 6, 'learning_rate': 0.13035039070105958, 'subsample': 0.6895654430169447, 'colsample_bytree': 0.5447787645006209, 'gamma': 1.6962527716662341, 'reg_alpha': 0.9106291549716354, 'reg_lambda': 0.7726751104650114}. Best is trial 2 with value: 0.9736842105263158.\n",
      "[I 2025-07-17 21:19:59,810] Trial 24 finished with value: 0.9649122807017544 and parameters: {'n_estimators': 250, 'max_depth': 5, 'learning_rate': 0.2223622614824714, 'subsample': 0.6141666013686377, 'colsample_bytree': 0.568938505899972, 'gamma': 3.9081130152097905, 'reg_alpha': 0.7962702354978877, 'reg_lambda': 0.887331640876653}. Best is trial 2 with value: 0.9736842105263158.\n",
      "[I 2025-07-17 21:20:00,013] Trial 25 finished with value: 0.9736842105263158 and parameters: {'n_estimators': 450, 'max_depth': 7, 'learning_rate': 0.29320839766330814, 'subsample': 0.5454481260256971, 'colsample_bytree': 0.6203280555912533, 'gamma': 3.0330127059717555, 'reg_alpha': 0.9077629991866141, 'reg_lambda': 0.4415034277290027}. Best is trial 2 with value: 0.9736842105263158.\n",
      "[I 2025-07-17 21:20:00,223] Trial 26 finished with value: 0.956140350877193 and parameters: {'n_estimators': 350, 'max_depth': 6, 'learning_rate': 0.08683117169871941, 'subsample': 0.720376615716472, 'colsample_bytree': 0.5023854482875967, 'gamma': 4.643827283505093, 'reg_alpha': 0.12295772235401281, 'reg_lambda': 0.9390679197998075}. Best is trial 2 with value: 0.9736842105263158.\n",
      "[I 2025-07-17 21:20:00,361] Trial 27 finished with value: 0.9649122807017544 and parameters: {'n_estimators': 150, 'max_depth': 9, 'learning_rate': 0.14209973153368838, 'subsample': 0.6069275404923272, 'colsample_bytree': 0.6954906459702602, 'gamma': 3.2365490062339473, 'reg_alpha': 0.3738169670484752, 'reg_lambda': 0.7384461414442608}. Best is trial 2 with value: 0.9736842105263158.\n",
      "[I 2025-07-17 21:20:00,534] Trial 28 finished with value: 0.9736842105263158 and parameters: {'n_estimators': 300, 'max_depth': 8, 'learning_rate': 0.20060253079659912, 'subsample': 0.5355471184113346, 'colsample_bytree': 0.5606667955222819, 'gamma': 2.5551220767193774, 'reg_alpha': 0.6014702127315262, 'reg_lambda': 0.7948586193316756}. Best is trial 2 with value: 0.9736842105263158.\n",
      "[I 2025-07-17 21:20:00,733] Trial 29 finished with value: 0.956140350877193 and parameters: {'n_estimators': 150, 'max_depth': 10, 'learning_rate': 0.048996188032412284, 'subsample': 0.6577387225154883, 'colsample_bytree': 0.7622690443660634, 'gamma': 3.776412029764926, 'reg_alpha': 0.10523003859344957, 'reg_lambda': 0.598356196466134}. Best is trial 2 with value: 0.9736842105263158.\n",
      "[I 2025-07-17 21:20:00,978] Trial 30 finished with value: 0.9649122807017544 and parameters: {'n_estimators': 450, 'max_depth': 5, 'learning_rate': 0.10247914992594721, 'subsample': 0.6186547138572619, 'colsample_bytree': 0.6392703412923707, 'gamma': 4.489735669197347, 'reg_alpha': 0.9471606274672696, 'reg_lambda': 0.850729503739682}. Best is trial 2 with value: 0.9736842105263158.\n",
      "[I 2025-07-17 21:20:01,223] Trial 31 finished with value: 0.956140350877193 and parameters: {'n_estimators': 450, 'max_depth': 7, 'learning_rate': 0.2740380865819669, 'subsample': 0.549856931385845, 'colsample_bytree': 0.6187755961641452, 'gamma': 2.943790925793951, 'reg_alpha': 0.8313707358006911, 'reg_lambda': 0.4466240769302636}. Best is trial 2 with value: 0.9736842105263158.\n",
      "[I 2025-07-17 21:20:01,440] Trial 32 finished with value: 0.9736842105263158 and parameters: {'n_estimators': 400, 'max_depth': 7, 'learning_rate': 0.29901077932772774, 'subsample': 0.531382004178081, 'colsample_bytree': 0.5268268026726932, 'gamma': 2.180633004079787, 'reg_alpha': 0.9299263064300616, 'reg_lambda': 0.4906428014683844}. Best is trial 2 with value: 0.9736842105263158.\n",
      "[I 2025-07-17 21:20:01,687] Trial 33 finished with value: 0.9649122807017544 and parameters: {'n_estimators': 450, 'max_depth': 6, 'learning_rate': 0.1609383531998597, 'subsample': 0.5675491786715333, 'colsample_bytree': 0.5774957484179521, 'gamma': 2.675093680971616, 'reg_alpha': 0.7263112939093161, 'reg_lambda': 0.3796789860967294}. Best is trial 2 with value: 0.9736842105263158.\n",
      "[I 2025-07-17 21:20:01,918] Trial 34 finished with value: 0.956140350877193 and parameters: {'n_estimators': 400, 'max_depth': 7, 'learning_rate': 0.22335326736671782, 'subsample': 0.7433913434087354, 'colsample_bytree': 0.681853386322361, 'gamma': 3.2427857863150247, 'reg_alpha': 0.9824324873727303, 'reg_lambda': 0.434198986017287}. Best is trial 2 with value: 0.9736842105263158.\n",
      "[I 2025-07-17 21:20:02,128] Trial 35 finished with value: 0.956140350877193 and parameters: {'n_estimators': 350, 'max_depth': 8, 'learning_rate': 0.1796747597832511, 'subsample': 0.7129234640102698, 'colsample_bytree': 0.8108319570409762, 'gamma': 3.9401212677395483, 'reg_alpha': 0.8433370201387687, 'reg_lambda': 0.6896691879209044}. Best is trial 2 with value: 0.9736842105263158.\n",
      "[I 2025-07-17 21:20:02,302] Trial 36 finished with value: 0.9649122807017544 and parameters: {'n_estimators': 250, 'max_depth': 6, 'learning_rate': 0.2453703974589573, 'subsample': 0.6625701753083637, 'colsample_bytree': 0.6333638078492089, 'gamma': 1.3742893376855836, 'reg_alpha': 0.9189874679503042, 'reg_lambda': 0.9355019376765141}. Best is trial 2 with value: 0.9736842105263158.\n",
      "[I 2025-07-17 21:20:02,567] Trial 37 finished with value: 0.956140350877193 and parameters: {'n_estimators': 500, 'max_depth': 5, 'learning_rate': 0.15172563357034521, 'subsample': 0.6100753713013507, 'colsample_bytree': 0.9066841528452275, 'gamma': 2.8980840965657007, 'reg_alpha': 0.5273641514415379, 'reg_lambda': 0.38288110623592875}. Best is trial 2 with value: 0.9736842105263158.\n",
      "[I 2025-07-17 21:20:02,758] Trial 38 finished with value: 0.9649122807017544 and parameters: {'n_estimators': 350, 'max_depth': 4, 'learning_rate': 0.19861490776232643, 'subsample': 0.5833400223402191, 'colsample_bytree': 0.5335761994774817, 'gamma': 1.9647025153416933, 'reg_alpha': 0.36138820339688466, 'reg_lambda': 0.6068233639611222}. Best is trial 2 with value: 0.9736842105263158.\n",
      "[I 2025-07-17 21:20:02,936] Trial 39 finished with value: 0.956140350877193 and parameters: {'n_estimators': 300, 'max_depth': 9, 'learning_rate': 0.1296356389054717, 'subsample': 0.805193390689731, 'colsample_bytree': 0.5601363932626817, 'gamma': 3.565126096733703, 'reg_alpha': 0.7611757398942959, 'reg_lambda': 0.12659905804306948}. Best is trial 2 with value: 0.9736842105263158.\n",
      "[I 2025-07-17 21:20:03,134] Trial 40 finished with value: 0.9736842105263158 and parameters: {'n_estimators': 400, 'max_depth': 3, 'learning_rate': 0.23830372016983697, 'subsample': 0.537261013290194, 'colsample_bytree': 0.5205238450105957, 'gamma': 4.371237778607124, 'reg_alpha': 0.22368478192185703, 'reg_lambda': 0.739312914178084}. Best is trial 2 with value: 0.9736842105263158.\n",
      "[I 2025-07-17 21:20:03,301] Trial 41 finished with value: 0.9736842105263158 and parameters: {'n_estimators': 300, 'max_depth': 8, 'learning_rate': 0.18619842229408, 'subsample': 0.5255368415885022, 'colsample_bytree': 0.559267928344286, 'gamma': 2.5614474668288416, 'reg_alpha': 0.9941829457432537, 'reg_lambda': 0.7948255024779568}. Best is trial 2 with value: 0.9736842105263158.\n",
      "[I 2025-07-17 21:20:03,444] Trial 42 finished with value: 0.9649122807017544 and parameters: {'n_estimators': 200, 'max_depth': 8, 'learning_rate': 0.256069528803657, 'subsample': 0.5526105228879833, 'colsample_bytree': 0.6038482444162885, 'gamma': 2.400143663740991, 'reg_alpha': 0.6399975466336115, 'reg_lambda': 0.864198710221184}. Best is trial 2 with value: 0.9736842105263158.\n",
      "[I 2025-07-17 21:20:03,606] Trial 43 finished with value: 0.9649122807017544 and parameters: {'n_estimators': 250, 'max_depth': 7, 'learning_rate': 0.20746726341114413, 'subsample': 0.5078502329902764, 'colsample_bytree': 0.5657289678206013, 'gamma': 2.7002472484067965, 'reg_alpha': 0.5182839151793301, 'reg_lambda': 0.7795973233805138}. Best is trial 2 with value: 0.9736842105263158.\n",
      "[I 2025-07-17 21:20:03,795] Trial 44 finished with value: 0.9649122807017544 and parameters: {'n_estimators': 350, 'max_depth': 9, 'learning_rate': 0.1092953669264862, 'subsample': 0.5787784479817403, 'colsample_bytree': 0.5174063851817952, 'gamma': 3.1468409753307722, 'reg_alpha': 0.8812523051721313, 'reg_lambda': 0.941216328403359}. Best is trial 2 with value: 0.9736842105263158.\n",
      "[I 2025-07-17 21:20:03,971] Trial 45 finished with value: 0.956140350877193 and parameters: {'n_estimators': 300, 'max_depth': 8, 'learning_rate': 0.2958060705797167, 'subsample': 0.6071175417738197, 'colsample_bytree': 0.9692481625640633, 'gamma': 0.8519291675922238, 'reg_alpha': 0.3828799370219177, 'reg_lambda': 0.6699550871872367}. Best is trial 2 with value: 0.9736842105263158.\n",
      "[I 2025-07-17 21:20:04,157] Trial 46 finished with value: 0.956140350877193 and parameters: {'n_estimators': 350, 'max_depth': 7, 'learning_rate': 0.14751510364454662, 'subsample': 0.9093789824499352, 'colsample_bytree': 0.6591750457686774, 'gamma': 2.209727886614025, 'reg_alpha': 0.6988274954189276, 'reg_lambda': 0.5188048533076977}. Best is trial 2 with value: 0.9736842105263158.\n",
      "[I 2025-07-17 21:20:04,313] Trial 47 finished with value: 0.956140350877193 and parameters: {'n_estimators': 100, 'max_depth': 10, 'learning_rate': 0.19532965637094243, 'subsample': 0.5460081362904183, 'colsample_bytree': 0.5430593072106015, 'gamma': 3.4078519562119456, 'reg_alpha': 0.7750843945255973, 'reg_lambda': 0.7262397060135621}. Best is trial 2 with value: 0.9736842105263158.\n",
      "[I 2025-07-17 21:20:04,477] Trial 48 finished with value: 0.9649122807017544 and parameters: {'n_estimators': 250, 'max_depth': 8, 'learning_rate': 0.08688349114331931, 'subsample': 0.6343245504171234, 'colsample_bytree': 0.5871445732436696, 'gamma': 1.8052122777513533, 'reg_alpha': 0.9470283871047982, 'reg_lambda': 0.6206669479360978}. Best is trial 2 with value: 0.9736842105263158.\n",
      "[I 2025-07-17 21:20:04,698] Trial 49 finished with value: 0.956140350877193 and parameters: {'n_estimators': 400, 'max_depth': 8, 'learning_rate': 0.02534696673069617, 'subsample': 0.6767788314357551, 'colsample_bytree': 0.6257047793524906, 'gamma': 3.0021289817140855, 'reg_alpha': 0.5617308753632799, 'reg_lambda': 0.8406534019323797}. Best is trial 2 with value: 0.9736842105263158.\n",
      "[I 2025-07-17 21:20:04,878] Trial 50 finished with value: 0.956140350877193 and parameters: {'n_estimators': 200, 'max_depth': 9, 'learning_rate': 0.0718699716764007, 'subsample': 0.5931172327392221, 'colsample_bytree': 0.8478983590083174, 'gamma': 1.3166260297988377, 'reg_alpha': 0.8249989404156788, 'reg_lambda': 0.9940643539205103}. Best is trial 2 with value: 0.9736842105263158.\n",
      "[I 2025-07-17 21:20:05,079] Trial 51 finished with value: 0.956140350877193 and parameters: {'n_estimators': 400, 'max_depth': 7, 'learning_rate': 0.29121675703364974, 'subsample': 0.5183815756503476, 'colsample_bytree': 0.5243096626792277, 'gamma': 2.1971304509393565, 'reg_alpha': 0.914046124512231, 'reg_lambda': 0.512251245729581}. Best is trial 2 with value: 0.9736842105263158.\n",
      "[I 2025-07-17 21:20:05,262] Trial 52 finished with value: 0.9649122807017544 and parameters: {'n_estimators': 400, 'max_depth': 7, 'learning_rate': 0.2980168443529347, 'subsample': 0.5284550476598118, 'colsample_bytree': 0.5427810984128474, 'gamma': 2.4965036257176663, 'reg_alpha': 0.9474135401763912, 'reg_lambda': 0.47291710807905807}. Best is trial 2 with value: 0.9736842105263158.\n",
      "[I 2025-07-17 21:20:05,459] Trial 53 finished with value: 0.9649122807017544 and parameters: {'n_estimators': 450, 'max_depth': 6, 'learning_rate': 0.2505250933331193, 'subsample': 0.5671606340198966, 'colsample_bytree': 0.5209264304578959, 'gamma': 2.09671459848829, 'reg_alpha': 0.9002847913562052, 'reg_lambda': 0.33893231094010623}. Best is trial 2 with value: 0.9736842105263158.\n",
      "[I 2025-07-17 21:20:05,623] Trial 54 finished with value: 0.9736842105263158 and parameters: {'n_estimators': 350, 'max_depth': 6, 'learning_rate': 0.22332947941547518, 'subsample': 0.5370805339744263, 'colsample_bytree': 0.5012862755765458, 'gamma': 2.7709488403312093, 'reg_alpha': 0.45899835917531245, 'reg_lambda': 0.5567694218149412}. Best is trial 2 with value: 0.9736842105263158.\n",
      "[I 2025-07-17 21:20:05,829] Trial 55 finished with value: 0.9649122807017544 and parameters: {'n_estimators': 400, 'max_depth': 8, 'learning_rate': 0.1674668664216863, 'subsample': 0.5925712263068552, 'colsample_bytree': 0.5563427764589524, 'gamma': 2.3317871721908183, 'reg_alpha': 0.877757976211333, 'reg_lambda': 0.4000994303519758}. Best is trial 2 with value: 0.9736842105263158.\n",
      "[I 2025-07-17 21:20:05,994] Trial 56 finished with value: 0.9649122807017544 and parameters: {'n_estimators': 300, 'max_depth': 7, 'learning_rate': 0.263392601568889, 'subsample': 0.5651133556262623, 'colsample_bytree': 0.5970008109613331, 'gamma': 4.966984031626254, 'reg_alpha': 0.3079862585868486, 'reg_lambda': 0.9184528396484697}. Best is trial 2 with value: 0.9736842105263158.\n",
      "[I 2025-07-17 21:20:06,199] Trial 57 finished with value: 0.956140350877193 and parameters: {'n_estimators': 450, 'max_depth': 6, 'learning_rate': 0.20418593054911768, 'subsample': 0.5029807294525909, 'colsample_bytree': 0.7318751830732853, 'gamma': 3.4362103186440867, 'reg_alpha': 0.959948598154158, 'reg_lambda': 0.2263447345348521}. Best is trial 2 with value: 0.9736842105263158.\n",
      "[I 2025-07-17 21:20:06,426] Trial 58 finished with value: 0.9736842105263158 and parameters: {'n_estimators': 500, 'max_depth': 7, 'learning_rate': 0.236962288073612, 'subsample': 0.6240565536811524, 'colsample_bytree': 0.5783808964513147, 'gamma': 0.05851715349159381, 'reg_alpha': 0.8094410558945924, 'reg_lambda': 0.79690437165993}. Best is trial 2 with value: 0.9736842105263158.\n",
      "[I 2025-07-17 21:20:06,592] Trial 59 finished with value: 0.9649122807017544 and parameters: {'n_estimators': 300, 'max_depth': 8, 'learning_rate': 0.17447486615501206, 'subsample': 0.6586101843468541, 'colsample_bytree': 0.534259308808985, 'gamma': 0.41789635855663576, 'reg_alpha': 0.6463788335569286, 'reg_lambda': 0.4772601208047156}. Best is trial 2 with value: 0.9736842105263158.\n",
      "[I 2025-07-17 21:20:06,762] Trial 60 finished with value: 0.956140350877193 and parameters: {'n_estimators': 350, 'max_depth': 9, 'learning_rate': 0.11659018446230203, 'subsample': 0.983614438812524, 'colsample_bytree': 0.5527655059452519, 'gamma': 4.155644030661309, 'reg_alpha': 0.725767052201618, 'reg_lambda': 0.32369358728797837}. Best is trial 2 with value: 0.9736842105263158.\n",
      "[I 2025-07-17 21:20:06,935] Trial 61 finished with value: 0.9736842105263158 and parameters: {'n_estimators': 400, 'max_depth': 3, 'learning_rate': 0.23908719454371335, 'subsample': 0.532167743710412, 'colsample_bytree': 0.5158109058231705, 'gamma': 4.36969992219053, 'reg_alpha': 0.04334818038129792, 'reg_lambda': 0.7145622567836184}. Best is trial 2 with value: 0.9736842105263158.\n",
      "[I 2025-07-17 21:20:07,105] Trial 62 finished with value: 0.9649122807017544 and parameters: {'n_estimators': 400, 'max_depth': 4, 'learning_rate': 0.26620802922072107, 'subsample': 0.5528231418102881, 'colsample_bytree': 0.5200739415384401, 'gamma': 4.789603900333288, 'reg_alpha': 0.21733632561532268, 'reg_lambda': 0.7572037727530517}. Best is trial 2 with value: 0.9736842105263158.\n",
      "[I 2025-07-17 21:20:07,264] Trial 63 finished with value: 0.956140350877193 and parameters: {'n_estimators': 350, 'max_depth': 3, 'learning_rate': 0.21966226480202067, 'subsample': 0.5394538721514188, 'colsample_bytree': 0.6134921307011815, 'gamma': 4.616334904144262, 'reg_alpha': 0.1868210369323272, 'reg_lambda': 0.811103907628386}. Best is trial 2 with value: 0.9736842105263158.\n",
      "[I 2025-07-17 21:20:07,457] Trial 64 finished with value: 0.9649122807017544 and parameters: {'n_estimators': 450, 'max_depth': 7, 'learning_rate': 0.13581583959517282, 'subsample': 0.5952115906188871, 'colsample_bytree': 0.5741804532236963, 'gamma': 4.014432354384726, 'reg_alpha': 0.1096726560753426, 'reg_lambda': 0.8818880539763976}. Best is trial 2 with value: 0.9736842105263158.\n",
      "[I 2025-07-17 21:20:07,615] Trial 65 finished with value: 0.9649122807017544 and parameters: {'n_estimators': 350, 'max_depth': 5, 'learning_rate': 0.18942517017150995, 'subsample': 0.5179361813869983, 'colsample_bytree': 0.5014584592609236, 'gamma': 3.670549285431156, 'reg_alpha': 0.14107601636617317, 'reg_lambda': 0.6392470963387913}. Best is trial 2 with value: 0.9736842105263158.\n",
      "[I 2025-07-17 21:20:07,811] Trial 66 finished with value: 0.9649122807017544 and parameters: {'n_estimators': 450, 'max_depth': 4, 'learning_rate': 0.15722977713450548, 'subsample': 0.5779235515462114, 'colsample_bytree': 0.6474714989313678, 'gamma': 3.2899050784254147, 'reg_alpha': 0.25673184020328765, 'reg_lambda': 0.699889479832445}. Best is trial 2 with value: 0.9736842105263158.\n",
      "[I 2025-07-17 21:20:07,988] Trial 67 finished with value: 0.9736842105263158 and parameters: {'n_estimators': 400, 'max_depth': 10, 'learning_rate': 0.27120912809314307, 'subsample': 0.5611307463818439, 'colsample_bytree': 0.5872175143058003, 'gamma': 2.667112479016036, 'reg_alpha': 0.8687660012616384, 'reg_lambda': 0.5837362239474708}. Best is trial 2 with value: 0.9736842105263158.\n",
      "[I 2025-07-17 21:20:08,097] Trial 68 finished with value: 0.9649122807017544 and parameters: {'n_estimators': 50, 'max_depth': 8, 'learning_rate': 0.016721518257384858, 'subsample': 0.6321568033913023, 'colsample_bytree': 0.5294435808298131, 'gamma': 3.044312638668919, 'reg_alpha': 0.04838112477289708, 'reg_lambda': 0.8291112408461953}. Best is trial 2 with value: 0.9736842105263158.\n",
      "[I 2025-07-17 21:20:08,331] Trial 69 finished with value: 0.9649122807017544 and parameters: {'n_estimators': 500, 'max_depth': 7, 'learning_rate': 0.039099289675320746, 'subsample': 0.501326033931472, 'colsample_bytree': 0.6745754771835847, 'gamma': 4.721590981540007, 'reg_alpha': 0.4094265091494493, 'reg_lambda': 0.9084572547619683}. Best is trial 2 with value: 0.9736842105263158.\n",
      "[I 2025-07-17 21:20:08,488] Trial 70 finished with value: 0.9824561403508771 and parameters: {'n_estimators': 350, 'max_depth': 9, 'learning_rate': 0.23006590198191568, 'subsample': 0.5419011674699025, 'colsample_bytree': 0.5440397828435227, 'gamma': 4.508457171063477, 'reg_alpha': 0.06330467656582428, 'reg_lambda': 0.7571054431168931}. Best is trial 70 with value: 0.9824561403508771.\n",
      "[I 2025-07-17 21:20:08,652] Trial 71 finished with value: 0.9824561403508771 and parameters: {'n_estimators': 350, 'max_depth': 9, 'learning_rate': 0.2365180172931156, 'subsample': 0.5391289861578392, 'colsample_bytree': 0.5477530446388383, 'gamma': 4.446835377970255, 'reg_alpha': 0.07752369242506216, 'reg_lambda': 0.7688788619465062}. Best is trial 70 with value: 0.9824561403508771.\n",
      "[I 2025-07-17 21:20:08,815] Trial 72 finished with value: 0.956140350877193 and parameters: {'n_estimators': 350, 'max_depth': 9, 'learning_rate': 0.20442210899119334, 'subsample': 0.5203104928303977, 'colsample_bytree': 0.5476359014697165, 'gamma': 4.536020128760631, 'reg_alpha': 0.061568147894906514, 'reg_lambda': 0.8653764095747398}. Best is trial 70 with value: 0.9824561403508771.\n",
      "[I 2025-07-17 21:20:08,967] Trial 73 finished with value: 0.9649122807017544 and parameters: {'n_estimators': 300, 'max_depth': 9, 'learning_rate': 0.22808108746211822, 'subsample': 0.5994461901688204, 'colsample_bytree': 0.5665428639615153, 'gamma': 4.867642277360664, 'reg_alpha': 0.0797579044194281, 'reg_lambda': 0.7625079701259522}. Best is trial 70 with value: 0.9824561403508771.\n",
      "[I 2025-07-17 21:20:09,117] Trial 74 finished with value: 0.9649122807017544 and parameters: {'n_estimators': 300, 'max_depth': 10, 'learning_rate': 0.27008821398582417, 'subsample': 0.5746423259016143, 'colsample_bytree': 0.5386250215407818, 'gamma': 1.8994270075617128, 'reg_alpha': 0.0016023163299851637, 'reg_lambda': 0.6794116365035536}. Best is trial 70 with value: 0.9824561403508771.\n",
      "[I 2025-07-17 21:20:09,283] Trial 75 finished with value: 0.9649122807017544 and parameters: {'n_estimators': 350, 'max_depth': 9, 'learning_rate': 0.18153956797075022, 'subsample': 0.5477026489736779, 'colsample_bytree': 0.5950637683835448, 'gamma': 3.7580269572585356, 'reg_alpha': 0.1518979087940433, 'reg_lambda': 0.8121982649082212}. Best is trial 70 with value: 0.9824561403508771.\n",
      "[I 2025-07-17 21:20:09,447] Trial 76 finished with value: 0.9736842105263158 and parameters: {'n_estimators': 350, 'max_depth': 10, 'learning_rate': 0.20994379670833183, 'subsample': 0.5613995330848307, 'colsample_bytree': 0.5579115075157325, 'gamma': 4.109434011963486, 'reg_alpha': 0.02876877051167938, 'reg_lambda': 0.971648985472881}. Best is trial 70 with value: 0.9824561403508771.\n",
      "[I 2025-07-17 21:20:09,601] Trial 77 finished with value: 0.9649122807017544 and parameters: {'n_estimators': 300, 'max_depth': 9, 'learning_rate': 0.24856015930416964, 'subsample': 0.620786291965977, 'colsample_bytree': 0.5117232839223345, 'gamma': 4.31556175299112, 'reg_alpha': 0.08010113383796807, 'reg_lambda': 0.41686048097661915}. Best is trial 70 with value: 0.9824561403508771.\n",
      "[I 2025-07-17 21:20:09,742] Trial 78 finished with value: 0.9736842105263158 and parameters: {'n_estimators': 250, 'max_depth': 6, 'learning_rate': 0.16880534588152615, 'subsample': 0.5828788189460644, 'colsample_bytree': 0.6115889965853555, 'gamma': 2.87683167883765, 'reg_alpha': 0.9717495261692496, 'reg_lambda': 0.5372629075930436}. Best is trial 70 with value: 0.9824561403508771.\n",
      "[I 2025-07-17 21:20:09,879] Trial 79 finished with value: 0.9649122807017544 and parameters: {'n_estimators': 150, 'max_depth': 8, 'learning_rate': 0.05597211691694735, 'subsample': 0.7026533908438495, 'colsample_bytree': 0.5287420684367126, 'gamma': 2.490101426007647, 'reg_alpha': 0.9061187163606649, 'reg_lambda': 0.7949294945285292}. Best is trial 70 with value: 0.9824561403508771.\n",
      "[I 2025-07-17 21:20:10,041] Trial 80 finished with value: 0.956140350877193 and parameters: {'n_estimators': 350, 'max_depth': 7, 'learning_rate': 0.2883812572857526, 'subsample': 0.81535865081103, 'colsample_bytree': 0.569132019606493, 'gamma': 4.4831664699325975, 'reg_alpha': 0.8532361141704168, 'reg_lambda': 0.8423056394082847}. Best is trial 70 with value: 0.9824561403508771.\n",
      "[I 2025-07-17 21:20:10,226] Trial 81 finished with value: 0.9736842105263158 and parameters: {'n_estimators': 400, 'max_depth': 9, 'learning_rate': 0.23744521402371957, 'subsample': 0.5372885526015834, 'colsample_bytree': 0.5118775434136651, 'gamma': 4.366410390344894, 'reg_alpha': 0.17533204106583183, 'reg_lambda': 0.6458678151827099}. Best is trial 70 with value: 0.9824561403508771.\n",
      "[I 2025-07-17 21:20:10,407] Trial 82 finished with value: 0.956140350877193 and parameters: {'n_estimators': 400, 'max_depth': 9, 'learning_rate': 0.19337076899559544, 'subsample': 0.5275297189885122, 'colsample_bytree': 0.5373872131160554, 'gamma': 1.6208667098693754, 'reg_alpha': 0.07950214063748359, 'reg_lambda': 0.7487826961692332}. Best is trial 70 with value: 0.9824561403508771.\n",
      "[I 2025-07-17 21:20:10,581] Trial 83 finished with value: 0.9736842105263158 and parameters: {'n_estimators': 400, 'max_depth': 8, 'learning_rate': 0.22443955359836282, 'subsample': 0.5485327122653988, 'colsample_bytree': 0.5477635228820021, 'gamma': 4.237033104694556, 'reg_alpha': 0.03117140920301007, 'reg_lambda': 0.7134320883473968}. Best is trial 70 with value: 0.9824561403508771.\n",
      "[I 2025-07-17 21:20:10,744] Trial 84 finished with value: 0.9824561403508771 and parameters: {'n_estimators': 350, 'max_depth': 9, 'learning_rate': 0.2997466329113958, 'subsample': 0.6486399191060591, 'colsample_bytree': 0.5118495888574314, 'gamma': 3.58496698965438, 'reg_alpha': 0.932090488521959, 'reg_lambda': 0.7820767406523548}. Best is trial 70 with value: 0.9824561403508771.\n",
      "[I 2025-07-17 21:20:10,911] Trial 85 finished with value: 0.9736842105263158 and parameters: {'n_estimators': 350, 'max_depth': 9, 'learning_rate': 0.27608322049381706, 'subsample': 0.6501292593964669, 'colsample_bytree': 0.7910186039342187, 'gamma': 3.5635838584975157, 'reg_alpha': 0.9982114513798682, 'reg_lambda': 0.773605615885337}. Best is trial 70 with value: 0.9824561403508771.\n",
      "[I 2025-07-17 21:20:11,064] Trial 86 finished with value: 0.9649122807017544 and parameters: {'n_estimators': 300, 'max_depth': 10, 'learning_rate': 0.26727024687104617, 'subsample': 0.6048285048653808, 'colsample_bytree': 0.5120698753130428, 'gamma': 3.1589568419967113, 'reg_alpha': 0.9225769104706902, 'reg_lambda': 0.8645409309882056}. Best is trial 70 with value: 0.9824561403508771.\n",
      "[I 2025-07-17 21:20:11,234] Trial 87 finished with value: 0.956140350877193 and parameters: {'n_estimators': 350, 'max_depth': 9, 'learning_rate': 0.25145465810456785, 'subsample': 0.6717770206912062, 'colsample_bytree': 0.5792203960344954, 'gamma': 2.835117831592401, 'reg_alpha': 0.9292421305398425, 'reg_lambda': 0.4833434374001231}. Best is trial 70 with value: 0.9824561403508771.\n",
      "[I 2025-07-17 21:20:11,392] Trial 88 finished with value: 0.9649122807017544 and parameters: {'n_estimators': 300, 'max_depth': 6, 'learning_rate': 0.29426507952061487, 'subsample': 0.7610628937589513, 'colsample_bytree': 0.5287252269697066, 'gamma': 2.616672625711665, 'reg_alpha': 0.9509316446955844, 'reg_lambda': 0.8949499049717864}. Best is trial 70 with value: 0.9824561403508771.\n",
      "[I 2025-07-17 21:20:11,523] Trial 89 finished with value: 0.9649122807017544 and parameters: {'n_estimators': 200, 'max_depth': 7, 'learning_rate': 0.2074395104011151, 'subsample': 0.6942254387519641, 'colsample_bytree': 0.5543457543066937, 'gamma': 3.3551881633394953, 'reg_alpha': 0.8973290953389882, 'reg_lambda': 0.7324238331669327}. Best is trial 70 with value: 0.9824561403508771.\n",
      "[I 2025-07-17 21:20:11,666] Trial 90 finished with value: 0.9736842105263158 and parameters: {'n_estimators': 250, 'max_depth': 8, 'learning_rate': 0.1894841570640646, 'subsample': 0.5131358796610057, 'colsample_bytree': 0.5022225140054097, 'gamma': 3.8575171646150253, 'reg_alpha': 0.32759590643790926, 'reg_lambda': 0.43738510930918084}. Best is trial 70 with value: 0.9824561403508771.\n",
      "[I 2025-07-17 21:20:11,852] Trial 91 finished with value: 0.9736842105263158 and parameters: {'n_estimators': 450, 'max_depth': 9, 'learning_rate': 0.23538474056956038, 'subsample': 0.5415603694812301, 'colsample_bytree': 0.5255940525877393, 'gamma': 4.725991145725979, 'reg_alpha': 0.4836184116893503, 'reg_lambda': 0.7830104279572189}. Best is trial 70 with value: 0.9824561403508771.\n",
      "[I 2025-07-17 21:20:12,030] Trial 92 finished with value: 0.9649122807017544 and parameters: {'n_estimators': 400, 'max_depth': 8, 'learning_rate': 0.2503517872083557, 'subsample': 0.5681101054743347, 'colsample_bytree': 0.5408927721654441, 'gamma': 2.363452115569924, 'reg_alpha': 0.2631875897578399, 'reg_lambda': 0.7413581513212198}. Best is trial 70 with value: 0.9824561403508771.\n",
      "[I 2025-07-17 21:20:12,241] Trial 93 finished with value: 0.9736842105263158 and parameters: {'n_estimators': 350, 'max_depth': 9, 'learning_rate': 0.22169727521522364, 'subsample': 0.6459301411357383, 'colsample_bytree': 0.5167147831442602, 'gamma': 4.512728987775168, 'reg_alpha': 0.1219559591093244, 'reg_lambda': 0.82590367894339}. Best is trial 70 with value: 0.9824561403508771.\n",
      "[I 2025-07-17 21:20:12,410] Trial 94 finished with value: 0.956140350877193 and parameters: {'n_estimators': 350, 'max_depth': 5, 'learning_rate': 0.14777263758425205, 'subsample': 0.7870830916966034, 'colsample_bytree': 0.5653311189855378, 'gamma': 3.0416018579734203, 'reg_alpha': 0.9646150879324068, 'reg_lambda': 0.7035193800374137}. Best is trial 70 with value: 0.9824561403508771.\n",
      "[I 2025-07-17 21:20:12,626] Trial 95 finished with value: 0.9649122807017544 and parameters: {'n_estimators': 400, 'max_depth': 7, 'learning_rate': 0.028341186172402874, 'subsample': 0.5868329509111642, 'colsample_bytree': 0.592114301973146, 'gamma': 4.039928980327949, 'reg_alpha': 0.825227083022866, 'reg_lambda': 0.6620910562986385}. Best is trial 70 with value: 0.9824561403508771.\n",
      "[I 2025-07-17 21:20:12,795] Trial 96 finished with value: 0.956140350877193 and parameters: {'n_estimators': 350, 'max_depth': 8, 'learning_rate': 0.2993865412387599, 'subsample': 0.8423159606246534, 'colsample_bytree': 0.5099879474288784, 'gamma': 2.0938952056544857, 'reg_alpha': 0.21179988317075724, 'reg_lambda': 0.7665994311457038}. Best is trial 70 with value: 0.9824561403508771.\n",
      "[I 2025-07-17 21:20:12,912] Trial 97 finished with value: 0.956140350877193 and parameters: {'n_estimators': 100, 'max_depth': 10, 'learning_rate': 0.1765529556845434, 'subsample': 0.5288682473625778, 'colsample_bytree': 0.5499458235490984, 'gamma': 4.86841275821394, 'reg_alpha': 0.020008758583469843, 'reg_lambda': 0.8042397394902137}. Best is trial 70 with value: 0.9824561403508771.\n",
      "[I 2025-07-17 21:20:13,121] Trial 98 finished with value: 0.9736842105263158 and parameters: {'n_estimators': 400, 'max_depth': 3, 'learning_rate': 0.16116122172434372, 'subsample': 0.626532594821071, 'colsample_bytree': 0.5298454827323823, 'gamma': 2.7929233524499493, 'reg_alpha': 0.9364909697182779, 'reg_lambda': 0.9613974305028563}. Best is trial 70 with value: 0.9824561403508771.\n",
      "[I 2025-07-17 21:20:13,338] Trial 99 finished with value: 0.9649122807017544 and parameters: {'n_estimators': 450, 'max_depth': 7, 'learning_rate': 0.2577200263130189, 'subsample': 0.5565205157197803, 'colsample_bytree': 0.5763762658874036, 'gamma': 4.674148919514659, 'reg_alpha': 0.5983960875824519, 'reg_lambda': 0.917658400101571}. Best is trial 70 with value: 0.9824561403508771.\n"
     ]
    }
   ],
   "source": [
    "#create optuna study\n",
    "study=optuna.create_study(direction='maximize')\n",
    "#optimize hyperparameters\n",
    "study.optimize(objective, n_trials=100)"
   ]
  },
  {
   "cell_type": "code",
   "execution_count": 15,
   "id": "bb22372a",
   "metadata": {},
   "outputs": [
    {
     "name": "stdout",
     "output_type": "stream",
     "text": [
      "Best hyperparameters: {'n_estimators': 350, 'max_depth': 9, 'learning_rate': 0.23006590198191568, 'subsample': 0.5419011674699025, 'colsample_bytree': 0.5440397828435227, 'gamma': 4.508457171063477, 'reg_alpha': 0.06330467656582428, 'reg_lambda': 0.7571054431168931}\n"
     ]
    }
   ],
   "source": [
    "print(\"Best hyperparameters:\", study.best_params)"
   ]
  },
  {
   "cell_type": "code",
   "execution_count": 16,
   "id": "96445f9d",
   "metadata": {},
   "outputs": [
    {
     "name": "stdout",
     "output_type": "stream",
     "text": [
      "best accuracy: 0.9824561403508771\n"
     ]
    }
   ],
   "source": [
    "print('best accuracy:', study.best_value)"
   ]
  },
  {
   "cell_type": "code",
   "execution_count": 18,
   "id": "40e11a6d",
   "metadata": {},
   "outputs": [],
   "source": [
    "param_grid={\n",
    "    'n_estimators':[100,200,300],\n",
    "    'max_depth':[3,5,10],\n",
    "    'learning_rate':[0.01,0.1,0.2],\n",
    "    'subsample':[0.5,0.8,1.0],\n",
    "}"
   ]
  },
  {
   "cell_type": "code",
   "execution_count": 19,
   "id": "33d705be",
   "metadata": {},
   "outputs": [],
   "source": [
    "#initialize grid search\n",
    "grid_search=GridSearchCV(estimator=XGBClassifier(eval_metric='logloss',random_state=42),\n",
    "                         param_grid=param_grid,\n",
    "                         scoring='accuracy',\n",
    "                         cv=5,\n",
    "                         n_jobs=-1)"
   ]
  },
  {
   "cell_type": "code",
   "execution_count": 20,
   "id": "f554cb0b",
   "metadata": {},
   "outputs": [
    {
     "name": "stdout",
     "output_type": "stream",
     "text": [
      "XGBClassifier(base_score=None, booster=None, callbacks=None,\n",
      "              colsample_bylevel=None, colsample_bynode=None,\n",
      "              colsample_bytree=None, device=None, early_stopping_rounds=None,\n",
      "              enable_categorical=False, eval_metric='logloss',\n",
      "              feature_types=None, feature_weights=None, gamma=None,\n",
      "              grow_policy=None, importance_type=None,\n",
      "              interaction_constraints=None, learning_rate=0.1, max_bin=None,\n",
      "              max_cat_threshold=None, max_cat_to_onehot=None,\n",
      "              max_delta_step=None, max_depth=3, max_leaves=None,\n",
      "              min_child_weight=None, missing=nan, monotone_constraints=None,\n",
      "              multi_strategy=None, n_estimators=200, n_jobs=None,\n",
      "              num_parallel_tree=None, ...)\n",
      "accuracy_score 0.9736842105263158\n"
     ]
    }
   ],
   "source": [
    "#perform grid search\n",
    "grid_search.fit(x_train,y_train)\n",
    "#best parameters\n",
    "print(grid_search.best_estimator_)\n",
    "y_pred=grid_search.predict(x_test)\n",
    "print('accuracy_score',accuracy_score(y_test,y_pred))"
   ]
  },
  {
   "cell_type": "code",
   "execution_count": 21,
   "id": "1820b790",
   "metadata": {},
   "outputs": [
    {
     "name": "stdout",
     "output_type": "stream",
     "text": [
      "best hyperparameters: {'learning_rate': 0.1, 'max_depth': 3, 'n_estimators': 200, 'subsample': 0.5}\n",
      "best accuracy: 0.9736263736263737\n"
     ]
    }
   ],
   "source": [
    "print('best hyperparameters:', grid_search.best_params_)\n",
    "print('best accuracy:', grid_search.best_score_)"
   ]
  },
  {
   "cell_type": "code",
   "execution_count": 23,
   "id": "74ddb00b",
   "metadata": {},
   "outputs": [],
   "source": [
    "param_dist={\n",
    "    'n_estimators':[50,100,200,300,400],\n",
    "    'max_depth':[3,5,7,9],\n",
    "    'learning_rate':[0.01,0.05,0.1,0.2],\n",
    "    'subsample':[0.5,0.7,0.8,0.9,1.0],\n",
    "    'colsample_bytree':[0.5,0.7,0.8,0.9,1.0]\n",
    "}"
   ]
  },
  {
   "cell_type": "code",
   "execution_count": 24,
   "id": "97997c09",
   "metadata": {},
   "outputs": [],
   "source": [
    "#train model\n",
    "random_search=RandomizedSearchCV(estimator=XGBClassifier(eval_metric='logloss',random_state=42),\n",
    "                                    param_distributions=param_dist,\n",
    "                                    n_iter=100,\n",
    "                                    scoring='accuracy',\n",
    "                                    cv=5,\n",
    "                                    n_jobs=-1,\n",
    "                                    random_state=42)"
   ]
  },
  {
   "cell_type": "code",
   "execution_count": 25,
   "id": "6f7357af",
   "metadata": {},
   "outputs": [
    {
     "name": "stdout",
     "output_type": "stream",
     "text": [
      "accuracy_score with random search: 0.9736842105263158\n"
     ]
    }
   ],
   "source": [
    "#perforn randomized search\n",
    "best_random_model=random_search.fit(x_train,y_train)\n",
    "y_pred_random=best_random_model.predict(x_test)\n",
    "print('accuracy_score with random search:', accuracy_score(y_test,y_pred_random))"
   ]
  }
 ],
 "metadata": {
  "kernelspec": {
   "display_name": "base",
   "language": "python",
   "name": "python3"
  },
  "language_info": {
   "codemirror_mode": {
    "name": "ipython",
    "version": 3
   },
   "file_extension": ".py",
   "mimetype": "text/x-python",
   "name": "python",
   "nbconvert_exporter": "python",
   "pygments_lexer": "ipython3",
   "version": "3.12.7"
  }
 },
 "nbformat": 4,
 "nbformat_minor": 5
}
