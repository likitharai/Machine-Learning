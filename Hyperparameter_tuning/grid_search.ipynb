{
 "cells": [
  {
   "cell_type": "code",
   "execution_count": 22,
   "id": "dbd7a829",
   "metadata": {},
   "outputs": [],
   "source": [
    "from sklearn.datasets import load_iris\n",
    "from sklearn.model_selection import train_test_split,GridSearchCV,RandomizedSearchCV\n",
    "import pandas as pd\n",
    "from sklearn.ensemble import RandomForestClassifier\n",
    "from sklearn.metrics import accuracy_score,classification_report"
   ]
  },
  {
   "cell_type": "code",
   "execution_count": 23,
   "id": "34591e4b",
   "metadata": {},
   "outputs": [],
   "source": [
    "#load datset\n",
    "data=load_iris()\n",
    "x,y=data.data,data.target"
   ]
  },
  {
   "cell_type": "code",
   "execution_count": 24,
   "id": "e5ebe0c3",
   "metadata": {},
   "outputs": [],
   "source": [
    "# split data\n",
    "x_train,x_test,y_train,y_test=train_test_split(x,y,test_size=0.2,random_state=42)"
   ]
  },
  {
   "cell_type": "code",
   "execution_count": 25,
   "id": "f64633e7",
   "metadata": {},
   "outputs": [],
   "source": [
    "param_grid={\n",
    "    'n_estimators':[50,100,200],\n",
    "    'max_depth':[None,5,10],\n",
    "    'min_samples_split':[2,5,10],\n",
    "}"
   ]
  },
  {
   "cell_type": "code",
   "execution_count": 26,
   "id": "c729dcb7",
   "metadata": {},
   "outputs": [],
   "source": [
    "#initialize grid search\n",
    "grid_search=GridSearchCV(estimator=RandomForestClassifier(random_state=42),\n",
    "                         param_grid=param_grid,\n",
    "                         scoring='accuracy',\n",
    "                         cv=5,\n",
    "                         n_jobs=-1)"
   ]
  },
  {
   "cell_type": "code",
   "execution_count": 34,
   "id": "eeffaf65",
   "metadata": {},
   "outputs": [
    {
     "name": "stdout",
     "output_type": "stream",
     "text": [
      "RandomForestClassifier(n_estimators=200, random_state=42)\n",
      "accuracy_score 1.0\n"
     ]
    }
   ],
   "source": [
    "#perform grid search\n",
    "grid_search.fit(x_train,y_train)\n",
    "#best parameters\n",
    "print(grid_search.best_estimator_)\n",
    "y_pred=grid_search.predict(x_test)\n",
    "print('accuracy_score',accuracy_score(y_test,y_pred))"
   ]
  },
  {
   "cell_type": "code",
   "execution_count": 28,
   "id": "7e974f7f",
   "metadata": {},
   "outputs": [
    {
     "name": "stdout",
     "output_type": "stream",
     "text": [
      "best hyperparameters: {'max_depth': None, 'min_samples_split': 2, 'n_estimators': 200}\n"
     ]
    }
   ],
   "source": [
    "print('best hyperparameters:', grid_search.best_params_)"
   ]
  },
  {
   "cell_type": "code",
   "execution_count": 29,
   "metadata": {},
   "outputs": [],
   "source": [
    "# define hyperparameter distribution\n",
    "import numpy as np\n",
    "param_dist={\n",
    "    'n_estimators':np.arange(50, 200, 10),\n",
    "    'max_depth':[None,5,10],\n",
    "    'min_samples_split':[2,5,10],\n",
    "}"
   ]
  },
  {
   "cell_type": "code",
   "execution_count": 30,
   "metadata": {},
   "outputs": [],
   "source": [
    "#initialize model\n",
    "random_search=RandomizedSearchCV(estimator=RandomForestClassifier(random_state=42),\n",
    "                                    param_distributions=param_dist,\n",
    "                                    scoring='accuracy',\n",
    "                                    n_iter=100,\n",
    "                                    cv=5,\n",
    "                                    n_jobs=-1,\n",
    "                                    random_state=42)\n",
    "                                 "
   ]
  },
  {
   "cell_type": "code",
   "execution_count": 32,
   "id": "4c3ee1b2",
   "metadata": {},
   "outputs": [
    {
     "name": "stdout",
     "output_type": "stream",
     "text": [
      "accuracy_score with random search: 1.0\n"
     ]
    }
   ],
   "source": [
    "#perforn randomized search\n",
    "best_random_model=random_search.fit(x_train,y_train)\n",
    "y_pred_random=best_random_model.predict(x_test)\n",
    "print('accuracy_score with random search:', accuracy_score(y_test,y_pred_random))"
   ]
  },
  {
   "cell_type": "code",
   "execution_count": 33,
   "id": "78c82759",
   "metadata": {},
   "outputs": [
    {
     "name": "stdout",
     "output_type": "stream",
     "text": [
      "best hyperparameters with random search: {'n_estimators': 120, 'min_samples_split': 5, 'max_depth': 5}\n",
      "best random model: RandomForestClassifier(max_depth=5, min_samples_split=5, n_estimators=120,\n",
      "                       random_state=42)\n"
     ]
    }
   ],
   "source": [
    "print('best hyperparameters with random search:', random_search.best_params_)\n",
    "print('best random model:', best_random_model.best_estimator_)\n"
   ]
  }
 ],
 "metadata": {
  "kernelspec": {
   "display_name": "base",
   "language": "python",
   "name": "python3"
  },
  "language_info": {
   "codemirror_mode": {
    "name": "ipython",
    "version": 3
   },
   "file_extension": ".py",
   "mimetype": "text/x-python",
   "name": "python",
   "nbconvert_exporter": "python",
   "pygments_lexer": "ipython3",
   "version": "3.12.7"
  }
 },
 "nbformat": 4,
 "nbformat_minor": 5
}
