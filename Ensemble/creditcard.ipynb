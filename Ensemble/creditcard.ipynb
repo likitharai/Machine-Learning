{
 "cells": [
  {
   "cell_type": "code",
   "execution_count": 76,
   "id": "cc2942f7",
   "metadata": {},
   "outputs": [
    {
     "name": "stdout",
     "output_type": "stream",
     "text": [
      "Collecting imblearn\n",
      "  Downloading imblearn-0.0-py2.py3-none-any.whl.metadata (355 bytes)\n",
      "Requirement already satisfied: imbalanced-learn in c:\\users\\raich\\anaconda3\\lib\\site-packages (from imblearn) (0.12.3)\n",
      "Requirement already satisfied: numpy>=1.17.3 in c:\\users\\raich\\anaconda3\\lib\\site-packages (from imbalanced-learn->imblearn) (1.26.4)\n",
      "Requirement already satisfied: scipy>=1.5.0 in c:\\users\\raich\\anaconda3\\lib\\site-packages (from imbalanced-learn->imblearn) (1.13.1)\n",
      "Requirement already satisfied: scikit-learn>=1.0.2 in c:\\users\\raich\\anaconda3\\lib\\site-packages (from imbalanced-learn->imblearn) (1.5.1)\n",
      "Requirement already satisfied: joblib>=1.1.1 in c:\\users\\raich\\anaconda3\\lib\\site-packages (from imbalanced-learn->imblearn) (1.4.2)\n",
      "Requirement already satisfied: threadpoolctl>=2.0.0 in c:\\users\\raich\\anaconda3\\lib\\site-packages (from imbalanced-learn->imblearn) (3.5.0)\n",
      "Downloading imblearn-0.0-py2.py3-none-any.whl (1.9 kB)\n",
      "Installing collected packages: imblearn\n",
      "Successfully installed imblearn-0.0\n",
      "Note: you may need to restart the kernel to use updated packages.\n"
     ]
    }
   ],
   "source": [
    "pip install imblearn"
   ]
  },
  {
   "cell_type": "code",
   "execution_count": 77,
   "id": "59d504fa",
   "metadata": {},
   "outputs": [],
   "source": [
    "import pandas as pd\n",
    "from sklearn.model_selection import train_test_split\n",
    "from sklearn.ensemble import RandomForestClassifier\n",
    "from sklearn.preprocessing import LabelEncoder\n",
    "from sklearn.metrics import classification_report, roc_auc_score\n",
    "from imblearn.over_sampling import SMOTE"
   ]
  },
  {
   "cell_type": "code",
   "execution_count": 54,
   "id": "7cc8dbaa",
   "metadata": {},
   "outputs": [],
   "source": [
    "url='https://gist.githubusercontent.com/avnreddy95/0d26cf9d9059a388e9034fa902a637d9/raw/6220944aa507e672c3cfa0cb39601d57bff6693f/credit_card.csv'\n",
    "df = pd.read_csv(url)"
   ]
  },
  {
   "cell_type": "code",
   "execution_count": 55,
   "id": "7815b63c",
   "metadata": {},
   "outputs": [
    {
     "data": {
      "text/plain": [
       "(690, 16)"
      ]
     },
     "execution_count": 55,
     "metadata": {},
     "output_type": "execute_result"
    }
   ],
   "source": [
    "df.shape"
   ]
  },
  {
   "cell_type": "code",
   "execution_count": 56,
   "id": "61c7b570",
   "metadata": {},
   "outputs": [
    {
     "data": {
      "text/html": [
       "<div>\n",
       "<style scoped>\n",
       "    .dataframe tbody tr th:only-of-type {\n",
       "        vertical-align: middle;\n",
       "    }\n",
       "\n",
       "    .dataframe tbody tr th {\n",
       "        vertical-align: top;\n",
       "    }\n",
       "\n",
       "    .dataframe thead th {\n",
       "        text-align: right;\n",
       "    }\n",
       "</style>\n",
       "<table border=\"1\" class=\"dataframe\">\n",
       "  <thead>\n",
       "    <tr style=\"text-align: right;\">\n",
       "      <th></th>\n",
       "      <th>Gender</th>\n",
       "      <th>Age</th>\n",
       "      <th>Debt</th>\n",
       "      <th>Married</th>\n",
       "      <th>BankCustomer</th>\n",
       "      <th>Industry</th>\n",
       "      <th>Ethnicity</th>\n",
       "      <th>YearsEmployed</th>\n",
       "      <th>PriorDefault</th>\n",
       "      <th>Employed</th>\n",
       "      <th>CreditScore</th>\n",
       "      <th>DriversLicense</th>\n",
       "      <th>Citizen</th>\n",
       "      <th>ZipCode</th>\n",
       "      <th>Income</th>\n",
       "      <th>Approved</th>\n",
       "    </tr>\n",
       "  </thead>\n",
       "  <tbody>\n",
       "    <tr>\n",
       "      <th>0</th>\n",
       "      <td>1</td>\n",
       "      <td>30.83</td>\n",
       "      <td>0.000</td>\n",
       "      <td>1</td>\n",
       "      <td>1</td>\n",
       "      <td>Industrials</td>\n",
       "      <td>White</td>\n",
       "      <td>1.250</td>\n",
       "      <td>1</td>\n",
       "      <td>1</td>\n",
       "      <td>1</td>\n",
       "      <td>0</td>\n",
       "      <td>ByBirth</td>\n",
       "      <td>202</td>\n",
       "      <td>0</td>\n",
       "      <td>1</td>\n",
       "    </tr>\n",
       "    <tr>\n",
       "      <th>1</th>\n",
       "      <td>0</td>\n",
       "      <td>58.67</td>\n",
       "      <td>4.460</td>\n",
       "      <td>1</td>\n",
       "      <td>1</td>\n",
       "      <td>Materials</td>\n",
       "      <td>Black</td>\n",
       "      <td>3.040</td>\n",
       "      <td>1</td>\n",
       "      <td>1</td>\n",
       "      <td>6</td>\n",
       "      <td>0</td>\n",
       "      <td>ByBirth</td>\n",
       "      <td>43</td>\n",
       "      <td>560</td>\n",
       "      <td>1</td>\n",
       "    </tr>\n",
       "    <tr>\n",
       "      <th>2</th>\n",
       "      <td>0</td>\n",
       "      <td>24.50</td>\n",
       "      <td>0.500</td>\n",
       "      <td>1</td>\n",
       "      <td>1</td>\n",
       "      <td>Materials</td>\n",
       "      <td>Black</td>\n",
       "      <td>1.500</td>\n",
       "      <td>1</td>\n",
       "      <td>0</td>\n",
       "      <td>0</td>\n",
       "      <td>0</td>\n",
       "      <td>ByBirth</td>\n",
       "      <td>280</td>\n",
       "      <td>824</td>\n",
       "      <td>1</td>\n",
       "    </tr>\n",
       "    <tr>\n",
       "      <th>3</th>\n",
       "      <td>1</td>\n",
       "      <td>27.83</td>\n",
       "      <td>1.540</td>\n",
       "      <td>1</td>\n",
       "      <td>1</td>\n",
       "      <td>Industrials</td>\n",
       "      <td>White</td>\n",
       "      <td>3.750</td>\n",
       "      <td>1</td>\n",
       "      <td>1</td>\n",
       "      <td>5</td>\n",
       "      <td>1</td>\n",
       "      <td>ByBirth</td>\n",
       "      <td>100</td>\n",
       "      <td>3</td>\n",
       "      <td>1</td>\n",
       "    </tr>\n",
       "    <tr>\n",
       "      <th>4</th>\n",
       "      <td>1</td>\n",
       "      <td>20.17</td>\n",
       "      <td>5.625</td>\n",
       "      <td>1</td>\n",
       "      <td>1</td>\n",
       "      <td>Industrials</td>\n",
       "      <td>White</td>\n",
       "      <td>1.710</td>\n",
       "      <td>1</td>\n",
       "      <td>0</td>\n",
       "      <td>0</td>\n",
       "      <td>0</td>\n",
       "      <td>ByOtherMeans</td>\n",
       "      <td>120</td>\n",
       "      <td>0</td>\n",
       "      <td>1</td>\n",
       "    </tr>\n",
       "    <tr>\n",
       "      <th>5</th>\n",
       "      <td>1</td>\n",
       "      <td>32.08</td>\n",
       "      <td>4.000</td>\n",
       "      <td>1</td>\n",
       "      <td>1</td>\n",
       "      <td>CommunicationServices</td>\n",
       "      <td>White</td>\n",
       "      <td>2.500</td>\n",
       "      <td>1</td>\n",
       "      <td>0</td>\n",
       "      <td>0</td>\n",
       "      <td>1</td>\n",
       "      <td>ByBirth</td>\n",
       "      <td>360</td>\n",
       "      <td>0</td>\n",
       "      <td>1</td>\n",
       "    </tr>\n",
       "    <tr>\n",
       "      <th>6</th>\n",
       "      <td>1</td>\n",
       "      <td>33.17</td>\n",
       "      <td>1.040</td>\n",
       "      <td>1</td>\n",
       "      <td>1</td>\n",
       "      <td>Transport</td>\n",
       "      <td>Black</td>\n",
       "      <td>6.500</td>\n",
       "      <td>1</td>\n",
       "      <td>0</td>\n",
       "      <td>0</td>\n",
       "      <td>1</td>\n",
       "      <td>ByBirth</td>\n",
       "      <td>164</td>\n",
       "      <td>31285</td>\n",
       "      <td>1</td>\n",
       "    </tr>\n",
       "    <tr>\n",
       "      <th>7</th>\n",
       "      <td>0</td>\n",
       "      <td>22.92</td>\n",
       "      <td>11.585</td>\n",
       "      <td>1</td>\n",
       "      <td>1</td>\n",
       "      <td>InformationTechnology</td>\n",
       "      <td>White</td>\n",
       "      <td>0.040</td>\n",
       "      <td>1</td>\n",
       "      <td>0</td>\n",
       "      <td>0</td>\n",
       "      <td>0</td>\n",
       "      <td>ByBirth</td>\n",
       "      <td>80</td>\n",
       "      <td>1349</td>\n",
       "      <td>1</td>\n",
       "    </tr>\n",
       "    <tr>\n",
       "      <th>8</th>\n",
       "      <td>1</td>\n",
       "      <td>54.42</td>\n",
       "      <td>0.500</td>\n",
       "      <td>0</td>\n",
       "      <td>0</td>\n",
       "      <td>Financials</td>\n",
       "      <td>Black</td>\n",
       "      <td>3.960</td>\n",
       "      <td>1</td>\n",
       "      <td>0</td>\n",
       "      <td>0</td>\n",
       "      <td>0</td>\n",
       "      <td>ByBirth</td>\n",
       "      <td>180</td>\n",
       "      <td>314</td>\n",
       "      <td>1</td>\n",
       "    </tr>\n",
       "    <tr>\n",
       "      <th>9</th>\n",
       "      <td>1</td>\n",
       "      <td>42.50</td>\n",
       "      <td>4.915</td>\n",
       "      <td>0</td>\n",
       "      <td>0</td>\n",
       "      <td>Industrials</td>\n",
       "      <td>White</td>\n",
       "      <td>3.165</td>\n",
       "      <td>1</td>\n",
       "      <td>0</td>\n",
       "      <td>0</td>\n",
       "      <td>1</td>\n",
       "      <td>ByBirth</td>\n",
       "      <td>52</td>\n",
       "      <td>1442</td>\n",
       "      <td>1</td>\n",
       "    </tr>\n",
       "  </tbody>\n",
       "</table>\n",
       "</div>"
      ],
      "text/plain": [
       "   Gender    Age    Debt  Married  BankCustomer               Industry  \\\n",
       "0       1  30.83   0.000        1             1            Industrials   \n",
       "1       0  58.67   4.460        1             1              Materials   \n",
       "2       0  24.50   0.500        1             1              Materials   \n",
       "3       1  27.83   1.540        1             1            Industrials   \n",
       "4       1  20.17   5.625        1             1            Industrials   \n",
       "5       1  32.08   4.000        1             1  CommunicationServices   \n",
       "6       1  33.17   1.040        1             1              Transport   \n",
       "7       0  22.92  11.585        1             1  InformationTechnology   \n",
       "8       1  54.42   0.500        0             0             Financials   \n",
       "9       1  42.50   4.915        0             0            Industrials   \n",
       "\n",
       "  Ethnicity  YearsEmployed  PriorDefault  Employed  CreditScore  \\\n",
       "0     White          1.250             1         1            1   \n",
       "1     Black          3.040             1         1            6   \n",
       "2     Black          1.500             1         0            0   \n",
       "3     White          3.750             1         1            5   \n",
       "4     White          1.710             1         0            0   \n",
       "5     White          2.500             1         0            0   \n",
       "6     Black          6.500             1         0            0   \n",
       "7     White          0.040             1         0            0   \n",
       "8     Black          3.960             1         0            0   \n",
       "9     White          3.165             1         0            0   \n",
       "\n",
       "   DriversLicense       Citizen  ZipCode  Income  Approved  \n",
       "0               0       ByBirth      202       0         1  \n",
       "1               0       ByBirth       43     560         1  \n",
       "2               0       ByBirth      280     824         1  \n",
       "3               1       ByBirth      100       3         1  \n",
       "4               0  ByOtherMeans      120       0         1  \n",
       "5               1       ByBirth      360       0         1  \n",
       "6               1       ByBirth      164   31285         1  \n",
       "7               0       ByBirth       80    1349         1  \n",
       "8               0       ByBirth      180     314         1  \n",
       "9               1       ByBirth       52    1442         1  "
      ]
     },
     "execution_count": 56,
     "metadata": {},
     "output_type": "execute_result"
    }
   ],
   "source": [
    "df.head(10)"
   ]
  },
  {
   "cell_type": "code",
   "execution_count": 57,
   "id": "76d39443",
   "metadata": {},
   "outputs": [
    {
     "data": {
      "text/plain": [
       "Approved\n",
       "0    383\n",
       "1    307\n",
       "Name: count, dtype: int64"
      ]
     },
     "execution_count": 57,
     "metadata": {},
     "output_type": "execute_result"
    }
   ],
   "source": [
    "df['Approved'].value_counts()"
   ]
  },
  {
   "cell_type": "code",
   "execution_count": 58,
   "id": "2244a80d",
   "metadata": {},
   "outputs": [],
   "source": [
    "df.drop('Industry', axis=1, inplace=True)"
   ]
  },
  {
   "cell_type": "code",
   "execution_count": 59,
   "id": "3b427aad",
   "metadata": {},
   "outputs": [
    {
     "name": "stdout",
     "output_type": "stream",
     "text": [
      "<class 'pandas.core.frame.DataFrame'>\n",
      "RangeIndex: 690 entries, 0 to 689\n",
      "Data columns (total 15 columns):\n",
      " #   Column          Non-Null Count  Dtype  \n",
      "---  ------          --------------  -----  \n",
      " 0   Gender          690 non-null    int64  \n",
      " 1   Age             690 non-null    float64\n",
      " 2   Debt            690 non-null    float64\n",
      " 3   Married         690 non-null    int64  \n",
      " 4   BankCustomer    690 non-null    int64  \n",
      " 5   Ethnicity       690 non-null    object \n",
      " 6   YearsEmployed   690 non-null    float64\n",
      " 7   PriorDefault    690 non-null    int64  \n",
      " 8   Employed        690 non-null    int64  \n",
      " 9   CreditScore     690 non-null    int64  \n",
      " 10  DriversLicense  690 non-null    int64  \n",
      " 11  Citizen         690 non-null    object \n",
      " 12  ZipCode         690 non-null    int64  \n",
      " 13  Income          690 non-null    int64  \n",
      " 14  Approved        690 non-null    int64  \n",
      "dtypes: float64(3), int64(10), object(2)\n",
      "memory usage: 81.0+ KB\n"
     ]
    },
    {
     "data": {
      "text/plain": [
       "(           Gender         Age        Debt     Married  BankCustomer  \\\n",
       " count  690.000000  690.000000  690.000000  690.000000    690.000000   \n",
       " mean     0.695652   31.514116    4.758725    0.760870      0.763768   \n",
       " std      0.460464   11.860245    4.978163    0.426862      0.425074   \n",
       " min      0.000000   13.750000    0.000000    0.000000      0.000000   \n",
       " 25%      0.000000   22.670000    1.000000    1.000000      1.000000   \n",
       " 50%      1.000000   28.460000    2.750000    1.000000      1.000000   \n",
       " 75%      1.000000   37.707500    7.207500    1.000000      1.000000   \n",
       " max      1.000000   80.250000   28.000000    1.000000      1.000000   \n",
       " \n",
       "        YearsEmployed  PriorDefault    Employed  CreditScore  DriversLicense  \\\n",
       " count     690.000000    690.000000  690.000000    690.00000      690.000000   \n",
       " mean        2.223406      0.523188    0.427536      2.40000        0.457971   \n",
       " std         3.346513      0.499824    0.495080      4.86294        0.498592   \n",
       " min         0.000000      0.000000    0.000000      0.00000        0.000000   \n",
       " 25%         0.165000      0.000000    0.000000      0.00000        0.000000   \n",
       " 50%         1.000000      1.000000    0.000000      0.00000        0.000000   \n",
       " 75%         2.625000      1.000000    1.000000      3.00000        1.000000   \n",
       " max        28.500000      1.000000    1.000000     67.00000        1.000000   \n",
       " \n",
       "            ZipCode         Income    Approved  \n",
       " count   690.000000     690.000000  690.000000  \n",
       " mean    180.547826    1017.385507    0.444928  \n",
       " std     173.970323    5210.102598    0.497318  \n",
       " min       0.000000       0.000000    0.000000  \n",
       " 25%      60.000000       0.000000    0.000000  \n",
       " 50%     160.000000       5.000000    0.000000  \n",
       " 75%     272.000000     395.500000    1.000000  \n",
       " max    2000.000000  100000.000000    1.000000  ,\n",
       " None)"
      ]
     },
     "execution_count": 59,
     "metadata": {},
     "output_type": "execute_result"
    }
   ],
   "source": [
    "df.describe(),df.info()\n"
   ]
  },
  {
   "cell_type": "code",
   "execution_count": 64,
   "id": "89fd7936",
   "metadata": {},
   "outputs": [],
   "source": [
    "label={}\n",
    "for col in df.columns:\n",
    "    if df[col].dtype=='object':\n",
    "        le=LabelEncoder()\n",
    "        df[col]=le.fit_transform(df[col])\n",
    "        label[col]=le\n",
    "       "
   ]
  },
  {
   "cell_type": "code",
   "execution_count": 67,
   "id": "245ebbfc",
   "metadata": {},
   "outputs": [],
   "source": [
    "x=df.drop('Approved', axis=1)\n",
    "y=df['Approved']"
   ]
  },
  {
   "cell_type": "code",
   "execution_count": 68,
   "id": "6c9c362f",
   "metadata": {},
   "outputs": [],
   "source": [
    "x_train,x_test,y_train,y_test=train_test_split(x,y,test_size=0.2,random_state=42)"
   ]
  },
  {
   "cell_type": "code",
   "execution_count": 69,
   "id": "f2234303",
   "metadata": {},
   "outputs": [],
   "source": [
    "#train the model\n",
    "model=RandomForestClassifier(random_state=42,class_weight='balanced')\n",
    "model.fit(x_train,y_train)\n",
    "y_pred=model.predict(x_test)"
   ]
  },
  {
   "cell_type": "code",
   "execution_count": 74,
   "id": "a564d8e4",
   "metadata": {},
   "outputs": [
    {
     "name": "stdout",
     "output_type": "stream",
     "text": [
      "              precision    recall  f1-score   support\n",
      "\n",
      "           0       0.84      0.90      0.87        68\n",
      "           1       0.89      0.83      0.86        70\n",
      "\n",
      "    accuracy                           0.86       138\n",
      "   macro avg       0.86      0.86      0.86       138\n",
      "weighted avg       0.86      0.86      0.86       138\n",
      "\n",
      "ROC AUC Score: 0.8628151260504202\n",
      "0.9097689075630253\n"
     ]
    }
   ],
   "source": [
    "#evaluate the model\n",
    "print(classification_report(y_test, y_pred))\n",
    "print(\"ROC AUC Score:\", roc_auc_score(y_test, y_pred))\n",
    "print(roc_auc_score(y_test, model.predict_proba(x_test)[:, 1]))"
   ]
  },
  {
   "cell_type": "code",
   "execution_count": 79,
   "id": "1e2a96c3",
   "metadata": {},
   "outputs": [],
   "source": [
    "# apply SMOTE\n",
    "smote= SMOTE(random_state=42)\n",
    "x_resampled,y_resampled=smote.fit_resample(x_train,y_train)"
   ]
  },
  {
   "cell_type": "code",
   "execution_count": 80,
   "id": "f26cb1bc",
   "metadata": {},
   "outputs": [
    {
     "name": "stdout",
     "output_type": "stream",
     "text": [
      "class distribution after SMOTE: Approved\n",
      "0    315\n",
      "1    315\n",
      "Name: count, dtype: int64\n"
     ]
    }
   ],
   "source": [
    "#display new class distribution\n",
    "\n",
    "print('class distribution after SMOTE:',pd.Series(y_resampled).value_counts())"
   ]
  },
  {
   "cell_type": "code",
   "execution_count": 81,
   "id": "627277b5",
   "metadata": {},
   "outputs": [
    {
     "name": "stdout",
     "output_type": "stream",
     "text": [
      "              precision    recall  f1-score   support\n",
      "\n",
      "           0       0.85      0.85      0.85        68\n",
      "           1       0.86      0.86      0.86        70\n",
      "\n",
      "    accuracy                           0.86       138\n",
      "   macro avg       0.86      0.86      0.86       138\n",
      "weighted avg       0.86      0.86      0.86       138\n",
      "\n",
      "ROC AUC Score after SMOTE: 0.8550420168067226\n",
      "0.9067226890756303\n"
     ]
    }
   ],
   "source": [
    "# train random forest model on resampled data\n",
    "model_resampled=RandomForestClassifier(random_state=42,class_weight='balanced')\n",
    "model_resampled.fit(x_resampled,y_resampled)\n",
    "# make predictions on test set\n",
    "y_pred_resampled=model_resampled.predict(x_test)\n",
    "# evaluate the model\n",
    "print(classification_report(y_test, y_pred_resampled))\n",
    "print(\"ROC AUC Score after SMOTE:\", roc_auc_score(y_test, y_pred_resampled))\n",
    "print(roc_auc_score(y_test, model_resampled.predict_proba(x_test)[:, 1]))\n"
   ]
  },
  {
   "cell_type": "code",
   "execution_count": null,
   "id": "cc3d89e8",
   "metadata": {},
   "outputs": [],
   "source": []
  }
 ],
 "metadata": {
  "kernelspec": {
   "display_name": "base",
   "language": "python",
   "name": "python3"
  },
  "language_info": {
   "codemirror_mode": {
    "name": "ipython",
    "version": 3
   },
   "file_extension": ".py",
   "mimetype": "text/x-python",
   "name": "python",
   "nbconvert_exporter": "python",
   "pygments_lexer": "ipython3",
   "version": "3.12.7"
  }
 },
 "nbformat": 4,
 "nbformat_minor": 5
}
