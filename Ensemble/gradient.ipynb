{
 "cells": [
  {
   "cell_type": "code",
   "execution_count": 1,
   "id": "afefb8b1",
   "metadata": {},
   "outputs": [],
   "source": [
    "from sklearn.datasets import load_breast_cancer\n",
    "from sklearn.model_selection import train_test_split\n",
    "from sklearn.ensemble import GradientBoostingClassifier\n",
    "from sklearn.metrics import accuracy_score\n",
    "from sklearn.model_selection import GridSearchCV"
   ]
  },
  {
   "cell_type": "code",
   "execution_count": 2,
   "id": "d77737cf",
   "metadata": {},
   "outputs": [],
   "source": [
    "data=load_breast_cancer()\n",
    "X=data.data\n",
    "y=data.target"
   ]
  },
  {
   "cell_type": "code",
   "execution_count": 3,
   "id": "048f73f1",
   "metadata": {},
   "outputs": [],
   "source": [
    "x_train,x_test,y_train,y_test=train_test_split(X,y,test_size=0.2,random_state=42)"
   ]
  },
  {
   "cell_type": "code",
   "execution_count": 6,
   "id": "621e49bc",
   "metadata": {},
   "outputs": [],
   "source": [
    "gb=GradientBoostingClassifier(random_state=42)\n",
    "gb.fit(x_train,y_train)\n",
    "gb_pred=gb.predict(x_test)"
   ]
  },
  {
   "cell_type": "code",
   "execution_count": 8,
   "id": "5e8b0b84",
   "metadata": {},
   "outputs": [
    {
     "name": "stdout",
     "output_type": "stream",
     "text": [
      "accuracy_score 0.956140350877193\n"
     ]
    }
   ],
   "source": [
    "print('accuracy_score',accuracy_score(y_test,gb_pred))"
   ]
  },
  {
   "cell_type": "code",
   "execution_count": 9,
   "id": "c2768827",
   "metadata": {},
   "outputs": [],
   "source": [
    "#difine hyperparameter grid\n",
    "param_grid={\n",
    "    'n_estimators':[50,100,200],\n",
    "    'max_depth':[3,5,7],\n",
    "    'learning_rate':[0.01,0.1,0.2]\n",
    "}\n",
    "\n",
    "grid=GridSearchCV(\n",
    "    estimator=GradientBoostingClassifier(random_state=42),\n",
    "    param_grid=param_grid,\n",
    "    cv=5,\n",
    "    scoring='accuracy',\n",
    "    n_jobs=-1\n",
    ")\n",
    "grid.fit(x_train,y_train)\n",
    "y_pred=grid.predict(x_test)"
   ]
  },
  {
   "cell_type": "code",
   "execution_count": 10,
   "id": "4ea49a02",
   "metadata": {},
   "outputs": [
    {
     "name": "stdout",
     "output_type": "stream",
     "text": [
      "best parameter {'learning_rate': 0.1, 'max_depth': 3, 'n_estimators': 200}\n",
      "best cross-validation accuracy 0.9648351648351647\n"
     ]
    }
   ],
   "source": [
    "#best parameter\n",
    "print('best parameter',grid.best_params_)\n",
    "print('best cross-validation accuracy',grid.best_score_)"
   ]
  },
  {
   "cell_type": "code",
   "execution_count": null,
   "id": "df178c42",
   "metadata": {},
   "outputs": [],
   "source": []
  }
 ],
 "metadata": {
  "kernelspec": {
   "display_name": "Python 3",
   "language": "python",
   "name": "python3"
  },
  "language_info": {
   "codemirror_mode": {
    "name": "ipython",
    "version": 3
   },
   "file_extension": ".py",
   "mimetype": "text/x-python",
   "name": "python",
   "nbconvert_exporter": "python",
   "pygments_lexer": "ipython3",
   "version": "3.12.1"
  }
 },
 "nbformat": 4,
 "nbformat_minor": 5
}
