{
 "cells": [
  {
   "cell_type": "code",
   "execution_count": 110,
   "id": "ce9731c9",
   "metadata": {},
   "outputs": [],
   "source": [
    "import pandas as pd\n",
    "from sklearn.preprocessing import LabelEncoder,StandardScaler\n",
    "from sklearn.model_selection import train_test_split,RandomizedSearchCV,cross_val_score\n",
    "from sklearn.ensemble import RandomForestClassifier\n",
    "from sklearn.metrics import accuracy_score, classification_report, roc_auc_score\n",
    "import numpy as np\n"
   ]
  },
  {
   "cell_type": "code",
   "execution_count": 78,
   "id": "71e77a65",
   "metadata": {},
   "outputs": [
    {
     "data": {
      "text/html": [
       "<div>\n",
       "<style scoped>\n",
       "    .dataframe tbody tr th:only-of-type {\n",
       "        vertical-align: middle;\n",
       "    }\n",
       "\n",
       "    .dataframe tbody tr th {\n",
       "        vertical-align: top;\n",
       "    }\n",
       "\n",
       "    .dataframe thead th {\n",
       "        text-align: right;\n",
       "    }\n",
       "</style>\n",
       "<table border=\"1\" class=\"dataframe\">\n",
       "  <thead>\n",
       "    <tr style=\"text-align: right;\">\n",
       "      <th></th>\n",
       "      <th>Unnamed: 0</th>\n",
       "      <th>customerID</th>\n",
       "      <th>gender</th>\n",
       "      <th>SeniorCitizen</th>\n",
       "      <th>Partner</th>\n",
       "      <th>Dependents</th>\n",
       "      <th>tenure</th>\n",
       "      <th>PhoneService</th>\n",
       "      <th>MultipleLines</th>\n",
       "      <th>InternetService</th>\n",
       "      <th>...</th>\n",
       "      <th>DeviceProtection</th>\n",
       "      <th>TechSupport</th>\n",
       "      <th>StreamingTV</th>\n",
       "      <th>StreamingMovies</th>\n",
       "      <th>Contract</th>\n",
       "      <th>PaperlessBilling</th>\n",
       "      <th>PaymentMethod</th>\n",
       "      <th>MonthlyCharges</th>\n",
       "      <th>TotalCharges</th>\n",
       "      <th>Churn</th>\n",
       "    </tr>\n",
       "  </thead>\n",
       "  <tbody>\n",
       "    <tr>\n",
       "      <th>0</th>\n",
       "      <td>0</td>\n",
       "      <td>7590-VHVEG</td>\n",
       "      <td>Female</td>\n",
       "      <td>False</td>\n",
       "      <td>True</td>\n",
       "      <td>False</td>\n",
       "      <td>1</td>\n",
       "      <td>False</td>\n",
       "      <td>NaN</td>\n",
       "      <td>DSL</td>\n",
       "      <td>...</td>\n",
       "      <td>False</td>\n",
       "      <td>False</td>\n",
       "      <td>False</td>\n",
       "      <td>False</td>\n",
       "      <td>Month-to-month</td>\n",
       "      <td>True</td>\n",
       "      <td>Electronic check</td>\n",
       "      <td>29.850000</td>\n",
       "      <td>29.850000381469727</td>\n",
       "      <td>False</td>\n",
       "    </tr>\n",
       "    <tr>\n",
       "      <th>1</th>\n",
       "      <td>1</td>\n",
       "      <td>5575-GNVDE</td>\n",
       "      <td>Male</td>\n",
       "      <td>False</td>\n",
       "      <td>False</td>\n",
       "      <td>False</td>\n",
       "      <td>34</td>\n",
       "      <td>True</td>\n",
       "      <td>False</td>\n",
       "      <td>DSL</td>\n",
       "      <td>...</td>\n",
       "      <td>True</td>\n",
       "      <td>False</td>\n",
       "      <td>False</td>\n",
       "      <td>False</td>\n",
       "      <td>One year</td>\n",
       "      <td>False</td>\n",
       "      <td>Mailed check</td>\n",
       "      <td>56.950001</td>\n",
       "      <td>1889.5</td>\n",
       "      <td>False</td>\n",
       "    </tr>\n",
       "    <tr>\n",
       "      <th>2</th>\n",
       "      <td>2</td>\n",
       "      <td>3668-QPYBK</td>\n",
       "      <td>Male</td>\n",
       "      <td>False</td>\n",
       "      <td>False</td>\n",
       "      <td>False</td>\n",
       "      <td>2</td>\n",
       "      <td>True</td>\n",
       "      <td>False</td>\n",
       "      <td>DSL</td>\n",
       "      <td>...</td>\n",
       "      <td>False</td>\n",
       "      <td>False</td>\n",
       "      <td>False</td>\n",
       "      <td>False</td>\n",
       "      <td>Month-to-month</td>\n",
       "      <td>True</td>\n",
       "      <td>Mailed check</td>\n",
       "      <td>53.849998</td>\n",
       "      <td>108.1500015258789</td>\n",
       "      <td>True</td>\n",
       "    </tr>\n",
       "    <tr>\n",
       "      <th>3</th>\n",
       "      <td>3</td>\n",
       "      <td>7795-CFOCW</td>\n",
       "      <td>Male</td>\n",
       "      <td>False</td>\n",
       "      <td>False</td>\n",
       "      <td>False</td>\n",
       "      <td>45</td>\n",
       "      <td>False</td>\n",
       "      <td>NaN</td>\n",
       "      <td>DSL</td>\n",
       "      <td>...</td>\n",
       "      <td>True</td>\n",
       "      <td>True</td>\n",
       "      <td>False</td>\n",
       "      <td>False</td>\n",
       "      <td>One year</td>\n",
       "      <td>False</td>\n",
       "      <td>Bank transfer (automatic)</td>\n",
       "      <td>42.299999</td>\n",
       "      <td>1840.75</td>\n",
       "      <td>False</td>\n",
       "    </tr>\n",
       "    <tr>\n",
       "      <th>4</th>\n",
       "      <td>4</td>\n",
       "      <td>9237-HQITU</td>\n",
       "      <td>Female</td>\n",
       "      <td>False</td>\n",
       "      <td>False</td>\n",
       "      <td>False</td>\n",
       "      <td>2</td>\n",
       "      <td>True</td>\n",
       "      <td>False</td>\n",
       "      <td>Fiber optic</td>\n",
       "      <td>...</td>\n",
       "      <td>False</td>\n",
       "      <td>False</td>\n",
       "      <td>False</td>\n",
       "      <td>False</td>\n",
       "      <td>Month-to-month</td>\n",
       "      <td>True</td>\n",
       "      <td>Electronic check</td>\n",
       "      <td>70.699997</td>\n",
       "      <td>151.64999389648438</td>\n",
       "      <td>True</td>\n",
       "    </tr>\n",
       "  </tbody>\n",
       "</table>\n",
       "<p>5 rows × 22 columns</p>\n",
       "</div>"
      ],
      "text/plain": [
       "   Unnamed: 0  customerID  gender SeniorCitizen Partner Dependents  tenure  \\\n",
       "0           0  7590-VHVEG  Female         False    True      False       1   \n",
       "1           1  5575-GNVDE    Male         False   False      False      34   \n",
       "2           2  3668-QPYBK    Male         False   False      False       2   \n",
       "3           3  7795-CFOCW    Male         False   False      False      45   \n",
       "4           4  9237-HQITU  Female         False   False      False       2   \n",
       "\n",
       "  PhoneService MultipleLines InternetService  ... DeviceProtection  \\\n",
       "0        False           NaN             DSL  ...            False   \n",
       "1         True         False             DSL  ...             True   \n",
       "2         True         False             DSL  ...            False   \n",
       "3        False           NaN             DSL  ...             True   \n",
       "4         True         False     Fiber optic  ...            False   \n",
       "\n",
       "  TechSupport StreamingTV StreamingMovies        Contract PaperlessBilling  \\\n",
       "0       False       False           False  Month-to-month             True   \n",
       "1       False       False           False        One year            False   \n",
       "2       False       False           False  Month-to-month             True   \n",
       "3        True       False           False        One year            False   \n",
       "4       False       False           False  Month-to-month             True   \n",
       "\n",
       "               PaymentMethod MonthlyCharges        TotalCharges  Churn  \n",
       "0           Electronic check      29.850000  29.850000381469727  False  \n",
       "1               Mailed check      56.950001              1889.5  False  \n",
       "2               Mailed check      53.849998   108.1500015258789   True  \n",
       "3  Bank transfer (automatic)      42.299999             1840.75  False  \n",
       "4           Electronic check      70.699997  151.64999389648438   True  \n",
       "\n",
       "[5 rows x 22 columns]"
      ]
     },
     "execution_count": 78,
     "metadata": {},
     "output_type": "execute_result"
    }
   ],
   "source": [
    "df=pd.read_csv('telco_churn.csv')\n",
    "df.head()"
   ]
  },
  {
   "cell_type": "code",
   "execution_count": null,
   "id": "afdd0525",
   "metadata": {},
   "outputs": [],
   "source": []
  },
  {
   "cell_type": "code",
   "execution_count": 79,
   "id": "f264ed9f",
   "metadata": {},
   "outputs": [
    {
     "name": "stdout",
     "output_type": "stream",
     "text": [
      "<class 'pandas.core.frame.DataFrame'>\n",
      "RangeIndex: 5043 entries, 0 to 5042\n",
      "Data columns (total 22 columns):\n",
      " #   Column            Non-Null Count  Dtype  \n",
      "---  ------            --------------  -----  \n",
      " 0   Unnamed: 0        5043 non-null   int64  \n",
      " 1   customerID        5043 non-null   object \n",
      " 2   gender            5043 non-null   object \n",
      " 3   SeniorCitizen     5043 non-null   object \n",
      " 4   Partner           5043 non-null   object \n",
      " 5   Dependents        5043 non-null   object \n",
      " 6   tenure            5043 non-null   int64  \n",
      " 7   PhoneService      5043 non-null   object \n",
      " 8   MultipleLines     4774 non-null   object \n",
      " 9   InternetService   5043 non-null   object \n",
      " 10  OnlineSecurity    4392 non-null   object \n",
      " 11  OnlineBackup      4392 non-null   object \n",
      " 12  DeviceProtection  4392 non-null   object \n",
      " 13  TechSupport       4392 non-null   object \n",
      " 14  StreamingTV       4392 non-null   object \n",
      " 15  StreamingMovies   4392 non-null   object \n",
      " 16  Contract          5043 non-null   object \n",
      " 17  PaperlessBilling  5043 non-null   object \n",
      " 18  PaymentMethod     5043 non-null   object \n",
      " 19  MonthlyCharges    5043 non-null   float64\n",
      " 20  TotalCharges      5038 non-null   object \n",
      " 21  Churn             5042 non-null   object \n",
      "dtypes: float64(1), int64(2), object(19)\n",
      "memory usage: 866.9+ KB\n"
     ]
    }
   ],
   "source": [
    "df.info()"
   ]
  },
  {
   "cell_type": "code",
   "execution_count": 80,
   "id": "caef8822",
   "metadata": {},
   "outputs": [
    {
     "data": {
      "text/html": [
       "<div>\n",
       "<style scoped>\n",
       "    .dataframe tbody tr th:only-of-type {\n",
       "        vertical-align: middle;\n",
       "    }\n",
       "\n",
       "    .dataframe tbody tr th {\n",
       "        vertical-align: top;\n",
       "    }\n",
       "\n",
       "    .dataframe thead th {\n",
       "        text-align: right;\n",
       "    }\n",
       "</style>\n",
       "<table border=\"1\" class=\"dataframe\">\n",
       "  <thead>\n",
       "    <tr style=\"text-align: right;\">\n",
       "      <th></th>\n",
       "      <th>Unnamed: 0</th>\n",
       "      <th>tenure</th>\n",
       "      <th>MonthlyCharges</th>\n",
       "    </tr>\n",
       "  </thead>\n",
       "  <tbody>\n",
       "    <tr>\n",
       "      <th>count</th>\n",
       "      <td>5043.000000</td>\n",
       "      <td>5043.000000</td>\n",
       "      <td>5043.000000</td>\n",
       "    </tr>\n",
       "    <tr>\n",
       "      <th>mean</th>\n",
       "      <td>1305.651993</td>\n",
       "      <td>32.576641</td>\n",
       "      <td>65.090214</td>\n",
       "    </tr>\n",
       "    <tr>\n",
       "      <th>std</th>\n",
       "      <td>801.484415</td>\n",
       "      <td>24.529807</td>\n",
       "      <td>30.068133</td>\n",
       "    </tr>\n",
       "    <tr>\n",
       "      <th>min</th>\n",
       "      <td>0.000000</td>\n",
       "      <td>0.000000</td>\n",
       "      <td>18.400000</td>\n",
       "    </tr>\n",
       "    <tr>\n",
       "      <th>25%</th>\n",
       "      <td>630.000000</td>\n",
       "      <td>9.000000</td>\n",
       "      <td>35.775000</td>\n",
       "    </tr>\n",
       "    <tr>\n",
       "      <th>50%</th>\n",
       "      <td>1260.000000</td>\n",
       "      <td>29.000000</td>\n",
       "      <td>70.550003</td>\n",
       "    </tr>\n",
       "    <tr>\n",
       "      <th>75%</th>\n",
       "      <td>1890.500000</td>\n",
       "      <td>56.000000</td>\n",
       "      <td>90.050003</td>\n",
       "    </tr>\n",
       "    <tr>\n",
       "      <th>max</th>\n",
       "      <td>2999.000000</td>\n",
       "      <td>72.000000</td>\n",
       "      <td>118.650002</td>\n",
       "    </tr>\n",
       "  </tbody>\n",
       "</table>\n",
       "</div>"
      ],
      "text/plain": [
       "        Unnamed: 0       tenure  MonthlyCharges\n",
       "count  5043.000000  5043.000000     5043.000000\n",
       "mean   1305.651993    32.576641       65.090214\n",
       "std     801.484415    24.529807       30.068133\n",
       "min       0.000000     0.000000       18.400000\n",
       "25%     630.000000     9.000000       35.775000\n",
       "50%    1260.000000    29.000000       70.550003\n",
       "75%    1890.500000    56.000000       90.050003\n",
       "max    2999.000000    72.000000      118.650002"
      ]
     },
     "execution_count": 80,
     "metadata": {},
     "output_type": "execute_result"
    }
   ],
   "source": [
    "df.describe()"
   ]
  },
  {
   "cell_type": "code",
   "execution_count": 81,
   "id": "67286496",
   "metadata": {},
   "outputs": [
    {
     "data": {
      "text/plain": [
       "Churn\n",
       "False    2219\n",
       "No       1487\n",
       "True      780\n",
       "Yes       556\n",
       "Name: count, dtype: int64"
      ]
     },
     "execution_count": 81,
     "metadata": {},
     "output_type": "execute_result"
    }
   ],
   "source": [
    "df['Churn'].value_counts()"
   ]
  },
  {
   "cell_type": "code",
   "execution_count": 82,
   "id": "507b379f",
   "metadata": {},
   "outputs": [
    {
     "name": "stdout",
     "output_type": "stream",
     "text": [
      "['no' 'yes']\n"
     ]
    }
   ],
   "source": [
    "import numpy as np\n",
    "\n",
    "# Step 1: Clean the values\n",
    "df['Churn'] = df['Churn'].astype(str).str.strip().str.lower()\n",
    "\n",
    "# Step 2: Replace known variations with standardized values\n",
    "df['Churn'] = df['Churn'].replace({\n",
    "    'true': 'yes',\n",
    "    '1': 'yes',\n",
    "    '2': 'yes',\n",
    "    'false': 'no',\n",
    "    '0': 'no',\n",
    "    'nan': np.nan,      \n",
    "    '': np.nan,         \n",
    "    'unknown': np.nan   \n",
    "})\n",
    "\n",
    "# Step 3: Drop rows where Churn is still nan\n",
    "df = df.dropna(subset=['Churn'])\n",
    "\n",
    "# Optional: Check final unique values (should only be 'yes' and 'no')\n",
    "print(df['Churn'].unique())"
   ]
  },
  {
   "cell_type": "code",
   "execution_count": 83,
   "id": "d70521e8",
   "metadata": {},
   "outputs": [
    {
     "data": {
      "text/plain": [
       "Churn\n",
       "no     3706\n",
       "yes    1336\n",
       "Name: count, dtype: int64"
      ]
     },
     "execution_count": 83,
     "metadata": {},
     "output_type": "execute_result"
    }
   ],
   "source": [
    "df['Churn'].value_counts()"
   ]
  },
  {
   "cell_type": "code",
   "execution_count": 84,
   "id": "5efeda8d",
   "metadata": {},
   "outputs": [
    {
     "data": {
      "text/plain": [
       "(5042, 22)"
      ]
     },
     "execution_count": 84,
     "metadata": {},
     "output_type": "execute_result"
    }
   ],
   "source": [
    "df.shape"
   ]
  },
  {
   "cell_type": "code",
   "execution_count": 85,
   "id": "b8abfb19",
   "metadata": {},
   "outputs": [],
   "source": [
    "df['TotalCharges'] = pd.to_numeric(df['TotalCharges'], errors='coerce')\n",
    "df.fillna({'TotalCharges':df['TotalCharges'].median()}, inplace=True)"
   ]
  },
  {
   "cell_type": "code",
   "execution_count": 86,
   "id": "6b40c059",
   "metadata": {},
   "outputs": [],
   "source": [
    "#ENCODE THE CATOGORICAL FEATURE\n",
    "label={}\n",
    "for col in df.columns:\n",
    "    if df[col].dtype=='object':\n",
    "        le=LabelEncoder()\n",
    "        df[col]=le.fit_transform(df[col])\n",
    "        label[col]=le"
   ]
  },
  {
   "cell_type": "code",
   "execution_count": 87,
   "id": "ab94c1a8",
   "metadata": {},
   "outputs": [],
   "source": [
    "# Scale the numerical feature\n",
    "sandard=StandardScaler()\n",
    "numerical_features=['tenure','MonthlyCharges','TotalCharges']\n",
    "df[numerical_features]=sandard.fit_transform(df[numerical_features])"
   ]
  },
  {
   "cell_type": "code",
   "execution_count": 88,
   "id": "78feefc0",
   "metadata": {},
   "outputs": [],
   "source": [
    "#feature and target\n",
    "x=df.drop(columns=['Churn'])\n",
    "y=df['Churn']"
   ]
  },
  {
   "cell_type": "code",
   "execution_count": 89,
   "id": "5162f3bd",
   "metadata": {},
   "outputs": [],
   "source": [
    "#split dataset\n",
    "x_train,x_test,y_train,y_test=train_test_split(x,y,test_size=0.2,random_state=42)"
   ]
  },
  {
   "cell_type": "code",
   "execution_count": 90,
   "id": "36ceaadf",
   "metadata": {},
   "outputs": [
    {
     "name": "stdout",
     "output_type": "stream",
     "text": [
      "accuracy_score 0.821605550049554\n"
     ]
    }
   ],
   "source": [
    "#train the model\n",
    "rf=RandomForestClassifier(random_state=42)\n",
    "rf.fit(x_train,y_train)\n",
    "\n",
    "y_pred=rf.predict(x_test)\n",
    "print('accuracy_score',accuracy_score(y_test,y_pred))"
   ]
  },
  {
   "cell_type": "code",
   "execution_count": 101,
   "id": "9c18b520",
   "metadata": {},
   "outputs": [],
   "source": [
    "#hyperparameter tuning\n",
    "param_dist={\n",
    "    'n_estimators':np.arange(50,200,10),\n",
    "    'max_depth':[None,5,10,15],\n",
    "    'min_samples_split':[2,5,10,20],\n",
    "    'min_samples_leaf':[1,2,3]\n",
    "}"
   ]
  },
  {
   "cell_type": "code",
   "execution_count": 102,
   "id": "a1a2173e",
   "metadata": {},
   "outputs": [],
   "source": [
    "random_search=RandomizedSearchCV(\n",
    "    estimator=RandomForestClassifier(random_state=42),\n",
    "    scoring='accuracy',\n",
    "    n_iter=20,\n",
    "    cv=5,\n",
    "    n_jobs=-1,\n",
    "    param_distributions=param_dist\n",
    ")"
   ]
  },
  {
   "cell_type": "code",
   "execution_count": 108,
   "id": "2e2d85e4",
   "metadata": {},
   "outputs": [],
   "source": [
    "random_search.fit(x_train,y_train)\n",
    "y_pred=random_search.predict(x_test)\n",
    "best_model=random_search.best_estimator_"
   ]
  },
  {
   "cell_type": "code",
   "execution_count": 105,
   "id": "83e9ee05",
   "metadata": {},
   "outputs": [
    {
     "name": "stdout",
     "output_type": "stream",
     "text": [
      "best model RandomForestClassifier(min_samples_split=10, n_estimators=70, random_state=42)\n",
      "best parameter {'n_estimators': 70, 'min_samples_split': 10, 'min_samples_leaf': 1, 'max_depth': None}\n"
     ]
    }
   ],
   "source": [
    "# train the model with best parameters\n",
    "print('best model',random_search.best_estimator_)\n",
    "print('best parameter',random_search.best_params_)"
   ]
  },
  {
   "cell_type": "code",
   "execution_count": 106,
   "id": "8d5c0b74",
   "metadata": {},
   "outputs": [
    {
     "name": "stdout",
     "output_type": "stream",
     "text": [
      "best_score: 0.7979207984724234\n"
     ]
    }
   ],
   "source": [
    "print('best_score:',random_search.best_score_)"
   ]
  },
  {
   "cell_type": "code",
   "execution_count": 107,
   "id": "6219d79d",
   "metadata": {},
   "outputs": [
    {
     "name": "stdout",
     "output_type": "stream",
     "text": [
      "accuracy_score 0.817641228939544\n"
     ]
    }
   ],
   "source": [
    "print('accuracy_score',accuracy_score(y_test,y_pred))"
   ]
  },
  {
   "cell_type": "code",
   "execution_count": 111,
   "id": "fbd36924",
   "metadata": {},
   "outputs": [],
   "source": [
    "# evaluate cross val score\n",
    "cv_scores=cross_val_score(best_model,x,y,cv=5,scoring='accuracy')"
   ]
  },
  {
   "cell_type": "code",
   "execution_count": 113,
   "id": "8c603f4e",
   "metadata": {},
   "outputs": [
    {
     "name": "stdout",
     "output_type": "stream",
     "text": [
      "cross_val_score [0.80971259 0.7938553  0.79166667 0.78472222 0.80257937]\n",
      "mean cross_val_score 0.7965072285934526\n"
     ]
    }
   ],
   "source": [
    "print('cross_val_score',cv_scores)\n",
    "print('mean cross_val_score',cv_scores.mean())"
   ]
  },
  {
   "cell_type": "code",
   "execution_count": null,
   "id": "c34e2e2e",
   "metadata": {},
   "outputs": [],
   "source": []
  }
 ],
 "metadata": {
  "kernelspec": {
   "display_name": "base",
   "language": "python",
   "name": "python3"
  },
  "language_info": {
   "codemirror_mode": {
    "name": "ipython",
    "version": 3
   },
   "file_extension": ".py",
   "mimetype": "text/x-python",
   "name": "python",
   "nbconvert_exporter": "python",
   "pygments_lexer": "ipython3",
   "version": "3.12.7"
  }
 },
 "nbformat": 4,
 "nbformat_minor": 5
}
