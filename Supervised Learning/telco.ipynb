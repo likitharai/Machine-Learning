{
 "cells": [
  {
   "cell_type": "code",
   "execution_count": 1,
   "id": "d7482d04",
   "metadata": {},
   "outputs": [],
   "source": [
    "import pandas as pd\n",
    "import seaborn as sns\n",
    "import matplotlib.pyplot as plt"
   ]
  },
  {
   "cell_type": "code",
   "execution_count": 2,
   "id": "0a85fb44",
   "metadata": {},
   "outputs": [
    {
     "data": {
      "text/html": [
       "<div>\n",
       "<style scoped>\n",
       "    .dataframe tbody tr th:only-of-type {\n",
       "        vertical-align: middle;\n",
       "    }\n",
       "\n",
       "    .dataframe tbody tr th {\n",
       "        vertical-align: top;\n",
       "    }\n",
       "\n",
       "    .dataframe thead th {\n",
       "        text-align: right;\n",
       "    }\n",
       "</style>\n",
       "<table border=\"1\" class=\"dataframe\">\n",
       "  <thead>\n",
       "    <tr style=\"text-align: right;\">\n",
       "      <th></th>\n",
       "      <th>Unnamed: 0</th>\n",
       "      <th>customerID</th>\n",
       "      <th>gender</th>\n",
       "      <th>SeniorCitizen</th>\n",
       "      <th>Partner</th>\n",
       "      <th>Dependents</th>\n",
       "      <th>tenure</th>\n",
       "      <th>PhoneService</th>\n",
       "      <th>MultipleLines</th>\n",
       "      <th>InternetService</th>\n",
       "      <th>...</th>\n",
       "      <th>DeviceProtection</th>\n",
       "      <th>TechSupport</th>\n",
       "      <th>StreamingTV</th>\n",
       "      <th>StreamingMovies</th>\n",
       "      <th>Contract</th>\n",
       "      <th>PaperlessBilling</th>\n",
       "      <th>PaymentMethod</th>\n",
       "      <th>MonthlyCharges</th>\n",
       "      <th>TotalCharges</th>\n",
       "      <th>Churn</th>\n",
       "    </tr>\n",
       "  </thead>\n",
       "  <tbody>\n",
       "    <tr>\n",
       "      <th>0</th>\n",
       "      <td>0</td>\n",
       "      <td>7590-VHVEG</td>\n",
       "      <td>Female</td>\n",
       "      <td>False</td>\n",
       "      <td>True</td>\n",
       "      <td>False</td>\n",
       "      <td>1</td>\n",
       "      <td>False</td>\n",
       "      <td>NaN</td>\n",
       "      <td>DSL</td>\n",
       "      <td>...</td>\n",
       "      <td>False</td>\n",
       "      <td>False</td>\n",
       "      <td>False</td>\n",
       "      <td>False</td>\n",
       "      <td>Month-to-month</td>\n",
       "      <td>True</td>\n",
       "      <td>Electronic check</td>\n",
       "      <td>29.850000</td>\n",
       "      <td>29.850000381469727</td>\n",
       "      <td>False</td>\n",
       "    </tr>\n",
       "    <tr>\n",
       "      <th>1</th>\n",
       "      <td>1</td>\n",
       "      <td>5575-GNVDE</td>\n",
       "      <td>Male</td>\n",
       "      <td>False</td>\n",
       "      <td>False</td>\n",
       "      <td>False</td>\n",
       "      <td>34</td>\n",
       "      <td>True</td>\n",
       "      <td>False</td>\n",
       "      <td>DSL</td>\n",
       "      <td>...</td>\n",
       "      <td>True</td>\n",
       "      <td>False</td>\n",
       "      <td>False</td>\n",
       "      <td>False</td>\n",
       "      <td>One year</td>\n",
       "      <td>False</td>\n",
       "      <td>Mailed check</td>\n",
       "      <td>56.950001</td>\n",
       "      <td>1889.5</td>\n",
       "      <td>False</td>\n",
       "    </tr>\n",
       "    <tr>\n",
       "      <th>2</th>\n",
       "      <td>2</td>\n",
       "      <td>3668-QPYBK</td>\n",
       "      <td>Male</td>\n",
       "      <td>False</td>\n",
       "      <td>False</td>\n",
       "      <td>False</td>\n",
       "      <td>2</td>\n",
       "      <td>True</td>\n",
       "      <td>False</td>\n",
       "      <td>DSL</td>\n",
       "      <td>...</td>\n",
       "      <td>False</td>\n",
       "      <td>False</td>\n",
       "      <td>False</td>\n",
       "      <td>False</td>\n",
       "      <td>Month-to-month</td>\n",
       "      <td>True</td>\n",
       "      <td>Mailed check</td>\n",
       "      <td>53.849998</td>\n",
       "      <td>108.1500015258789</td>\n",
       "      <td>True</td>\n",
       "    </tr>\n",
       "    <tr>\n",
       "      <th>3</th>\n",
       "      <td>3</td>\n",
       "      <td>7795-CFOCW</td>\n",
       "      <td>Male</td>\n",
       "      <td>False</td>\n",
       "      <td>False</td>\n",
       "      <td>False</td>\n",
       "      <td>45</td>\n",
       "      <td>False</td>\n",
       "      <td>NaN</td>\n",
       "      <td>DSL</td>\n",
       "      <td>...</td>\n",
       "      <td>True</td>\n",
       "      <td>True</td>\n",
       "      <td>False</td>\n",
       "      <td>False</td>\n",
       "      <td>One year</td>\n",
       "      <td>False</td>\n",
       "      <td>Bank transfer (automatic)</td>\n",
       "      <td>42.299999</td>\n",
       "      <td>1840.75</td>\n",
       "      <td>False</td>\n",
       "    </tr>\n",
       "    <tr>\n",
       "      <th>4</th>\n",
       "      <td>4</td>\n",
       "      <td>9237-HQITU</td>\n",
       "      <td>Female</td>\n",
       "      <td>False</td>\n",
       "      <td>False</td>\n",
       "      <td>False</td>\n",
       "      <td>2</td>\n",
       "      <td>True</td>\n",
       "      <td>False</td>\n",
       "      <td>Fiber optic</td>\n",
       "      <td>...</td>\n",
       "      <td>False</td>\n",
       "      <td>False</td>\n",
       "      <td>False</td>\n",
       "      <td>False</td>\n",
       "      <td>Month-to-month</td>\n",
       "      <td>True</td>\n",
       "      <td>Electronic check</td>\n",
       "      <td>70.699997</td>\n",
       "      <td>151.64999389648438</td>\n",
       "      <td>True</td>\n",
       "    </tr>\n",
       "  </tbody>\n",
       "</table>\n",
       "<p>5 rows × 22 columns</p>\n",
       "</div>"
      ],
      "text/plain": [
       "   Unnamed: 0  customerID  gender SeniorCitizen Partner Dependents  tenure  \\\n",
       "0           0  7590-VHVEG  Female         False    True      False       1   \n",
       "1           1  5575-GNVDE    Male         False   False      False      34   \n",
       "2           2  3668-QPYBK    Male         False   False      False       2   \n",
       "3           3  7795-CFOCW    Male         False   False      False      45   \n",
       "4           4  9237-HQITU  Female         False   False      False       2   \n",
       "\n",
       "  PhoneService MultipleLines InternetService  ... DeviceProtection  \\\n",
       "0        False           NaN             DSL  ...            False   \n",
       "1         True         False             DSL  ...             True   \n",
       "2         True         False             DSL  ...            False   \n",
       "3        False           NaN             DSL  ...             True   \n",
       "4         True         False     Fiber optic  ...            False   \n",
       "\n",
       "  TechSupport StreamingTV StreamingMovies        Contract PaperlessBilling  \\\n",
       "0       False       False           False  Month-to-month             True   \n",
       "1       False       False           False        One year            False   \n",
       "2       False       False           False  Month-to-month             True   \n",
       "3        True       False           False        One year            False   \n",
       "4       False       False           False  Month-to-month             True   \n",
       "\n",
       "               PaymentMethod MonthlyCharges        TotalCharges  Churn  \n",
       "0           Electronic check      29.850000  29.850000381469727  False  \n",
       "1               Mailed check      56.950001              1889.5  False  \n",
       "2               Mailed check      53.849998   108.1500015258789   True  \n",
       "3  Bank transfer (automatic)      42.299999             1840.75  False  \n",
       "4           Electronic check      70.699997  151.64999389648438   True  \n",
       "\n",
       "[5 rows x 22 columns]"
      ]
     },
     "execution_count": 2,
     "metadata": {},
     "output_type": "execute_result"
    }
   ],
   "source": [
    "# load telco customer churn dataset\n",
    "df_teco=pd.read_csv('telco_churn.csv')\n",
    "df_teco.head()\n"
   ]
  },
  {
   "cell_type": "code",
   "execution_count": 3,
   "id": "7c5000eb",
   "metadata": {},
   "outputs": [
    {
     "name": "stdout",
     "output_type": "stream",
     "text": [
      "<class 'pandas.core.frame.DataFrame'>\n",
      "RangeIndex: 5043 entries, 0 to 5042\n",
      "Data columns (total 22 columns):\n",
      " #   Column            Non-Null Count  Dtype  \n",
      "---  ------            --------------  -----  \n",
      " 0   Unnamed: 0        5043 non-null   int64  \n",
      " 1   customerID        5043 non-null   object \n",
      " 2   gender            5043 non-null   object \n",
      " 3   SeniorCitizen     5043 non-null   object \n",
      " 4   Partner           5043 non-null   object \n",
      " 5   Dependents        5043 non-null   object \n",
      " 6   tenure            5043 non-null   int64  \n",
      " 7   PhoneService      5043 non-null   object \n",
      " 8   MultipleLines     4774 non-null   object \n",
      " 9   InternetService   5043 non-null   object \n",
      " 10  OnlineSecurity    4392 non-null   object \n",
      " 11  OnlineBackup      4392 non-null   object \n",
      " 12  DeviceProtection  4392 non-null   object \n",
      " 13  TechSupport       4392 non-null   object \n",
      " 14  StreamingTV       4392 non-null   object \n",
      " 15  StreamingMovies   4392 non-null   object \n",
      " 16  Contract          5043 non-null   object \n",
      " 17  PaperlessBilling  5043 non-null   object \n",
      " 18  PaymentMethod     5043 non-null   object \n",
      " 19  MonthlyCharges    5043 non-null   float64\n",
      " 20  TotalCharges      5038 non-null   object \n",
      " 21  Churn             5042 non-null   object \n",
      "dtypes: float64(1), int64(2), object(19)\n",
      "memory usage: 866.9+ KB\n"
     ]
    }
   ],
   "source": [
    "df_teco.info()"
   ]
  },
  {
   "cell_type": "code",
   "execution_count": 4,
   "id": "de850b51",
   "metadata": {},
   "outputs": [
    {
     "data": {
      "text/html": [
       "<div>\n",
       "<style scoped>\n",
       "    .dataframe tbody tr th:only-of-type {\n",
       "        vertical-align: middle;\n",
       "    }\n",
       "\n",
       "    .dataframe tbody tr th {\n",
       "        vertical-align: top;\n",
       "    }\n",
       "\n",
       "    .dataframe thead th {\n",
       "        text-align: right;\n",
       "    }\n",
       "</style>\n",
       "<table border=\"1\" class=\"dataframe\">\n",
       "  <thead>\n",
       "    <tr style=\"text-align: right;\">\n",
       "      <th></th>\n",
       "      <th>Unnamed: 0</th>\n",
       "      <th>tenure</th>\n",
       "      <th>MonthlyCharges</th>\n",
       "    </tr>\n",
       "  </thead>\n",
       "  <tbody>\n",
       "    <tr>\n",
       "      <th>count</th>\n",
       "      <td>5043.000000</td>\n",
       "      <td>5043.000000</td>\n",
       "      <td>5043.000000</td>\n",
       "    </tr>\n",
       "    <tr>\n",
       "      <th>mean</th>\n",
       "      <td>1305.651993</td>\n",
       "      <td>32.576641</td>\n",
       "      <td>65.090214</td>\n",
       "    </tr>\n",
       "    <tr>\n",
       "      <th>std</th>\n",
       "      <td>801.484415</td>\n",
       "      <td>24.529807</td>\n",
       "      <td>30.068133</td>\n",
       "    </tr>\n",
       "    <tr>\n",
       "      <th>min</th>\n",
       "      <td>0.000000</td>\n",
       "      <td>0.000000</td>\n",
       "      <td>18.400000</td>\n",
       "    </tr>\n",
       "    <tr>\n",
       "      <th>25%</th>\n",
       "      <td>630.000000</td>\n",
       "      <td>9.000000</td>\n",
       "      <td>35.775000</td>\n",
       "    </tr>\n",
       "    <tr>\n",
       "      <th>50%</th>\n",
       "      <td>1260.000000</td>\n",
       "      <td>29.000000</td>\n",
       "      <td>70.550003</td>\n",
       "    </tr>\n",
       "    <tr>\n",
       "      <th>75%</th>\n",
       "      <td>1890.500000</td>\n",
       "      <td>56.000000</td>\n",
       "      <td>90.050003</td>\n",
       "    </tr>\n",
       "    <tr>\n",
       "      <th>max</th>\n",
       "      <td>2999.000000</td>\n",
       "      <td>72.000000</td>\n",
       "      <td>118.650002</td>\n",
       "    </tr>\n",
       "  </tbody>\n",
       "</table>\n",
       "</div>"
      ],
      "text/plain": [
       "        Unnamed: 0       tenure  MonthlyCharges\n",
       "count  5043.000000  5043.000000     5043.000000\n",
       "mean   1305.651993    32.576641       65.090214\n",
       "std     801.484415    24.529807       30.068133\n",
       "min       0.000000     0.000000       18.400000\n",
       "25%     630.000000     9.000000       35.775000\n",
       "50%    1260.000000    29.000000       70.550003\n",
       "75%    1890.500000    56.000000       90.050003\n",
       "max    2999.000000    72.000000      118.650002"
      ]
     },
     "execution_count": 4,
     "metadata": {},
     "output_type": "execute_result"
    }
   ],
   "source": [
    "df_teco.describe()"
   ]
  },
  {
   "cell_type": "code",
   "execution_count": 5,
   "id": "94e0ac04",
   "metadata": {},
   "outputs": [
    {
     "data": {
      "text/plain": [
       "<Axes: xlabel='Churn', ylabel='count'>"
      ]
     },
     "execution_count": 5,
     "metadata": {},
     "output_type": "execute_result"
    },
    {
     "data": {
      "image/png": "[encoded data removed]",
      "text/plain": [
       "<Figure size 640x480 with 1 Axes>"
      ]
     },
     "metadata": {},
     "output_type": "display_data"
    }
   ],
   "source": [
    "sns.countplot(x='Churn',data=df_teco)"
   ]
  },
  {
   "cell_type": "code",
   "execution_count": 6,
   "id": "bcd907eb",
   "metadata": {},
   "outputs": [],
   "source": [
    "df_teco.fillna(df_teco.select_dtypes(include='number').mean(), inplace=True)"
   ]
  },
  {
   "cell_type": "code",
   "execution_count": 7,
   "id": "00496f28",
   "metadata": {},
   "outputs": [],
   "source": [
    "df_teco.drop(['customerID'],axis=1,inplace=True)\n",
    "df_teco.drop(['Unnamed: 0'],axis=1,inplace=True)"
   ]
  },
  {
   "cell_type": "code",
   "execution_count": 9,
   "id": "73d01c82",
   "metadata": {},
   "outputs": [],
   "source": [
    "df_teco['TotalCharges']=pd.to_numeric(df_teco['TotalCharges'],errors='coerce')\n",
    "df_teco.dropna(inplace=True)"
   ]
  },
  {
   "cell_type": "code",
   "execution_count": 10,
   "id": "8abe8e8d",
   "metadata": {},
   "outputs": [
    {
     "data": {
      "text/plain": [
       "gender              0\n",
       "SeniorCitizen       0\n",
       "Partner             0\n",
       "Dependents          0\n",
       "tenure              0\n",
       "PhoneService        0\n",
       "MultipleLines       0\n",
       "InternetService     0\n",
       "OnlineSecurity      0\n",
       "OnlineBackup        0\n",
       "DeviceProtection    0\n",
       "TechSupport         0\n",
       "StreamingTV         0\n",
       "StreamingMovies     0\n",
       "Contract            0\n",
       "PaperlessBilling    0\n",
       "PaymentMethod       0\n",
       "MonthlyCharges      0\n",
       "TotalCharges        0\n",
       "Churn               0\n",
       "dtype: int64"
      ]
     },
     "execution_count": 10,
     "metadata": {},
     "output_type": "execute_result"
    }
   ],
   "source": [
    "df_teco.isnull().sum()"
   ]
  },
  {
   "cell_type": "code",
   "execution_count": 11,
   "id": "0b5df146",
   "metadata": {},
   "outputs": [],
   "source": [
    "df_teco = pd.get_dummies(df_teco, drop_first=True)\n"
   ]
  },
  {
   "cell_type": "code",
   "execution_count": 13,
   "id": "0f78cd35",
   "metadata": {},
   "outputs": [],
   "source": [
    "X = df_teco.drop('Churn_True', axis=1)\n",
    "y = df_teco['Churn_True']"
   ]
  },
  {
   "cell_type": "code",
   "execution_count": 14,
   "id": "7183d278",
   "metadata": {},
   "outputs": [],
   "source": [
    "from sklearn.model_selection import train_test_split\n",
    "from sklearn.preprocessing import StandardScaler,LabelEncoder\n",
    "from sklearn.linear_model import LogisticRegression\n",
    "from sklearn.neighbors import KNeighborsClassifier\n",
    "from sklearn.metrics import classification_report,confusion_matrix"
   ]
  },
  {
   "cell_type": "code",
   "execution_count": 15,
   "id": "990864cb",
   "metadata": {},
   "outputs": [],
   "source": [
    "scalar=StandardScaler()\n",
    "X=scalar.fit_transform(X)"
   ]
  },
  {
   "cell_type": "code",
   "execution_count": 16,
   "id": "83e8682c",
   "metadata": {},
   "outputs": [],
   "source": [
    "x_train,x_test,y_train,y_test=train_test_split(X,y,test_size=0.2,random_state=42)"
   ]
  },
  {
   "cell_type": "code",
   "execution_count": 17,
   "id": "3bc2e1ff",
   "metadata": {},
   "outputs": [],
   "source": [
    "lr=LogisticRegression(max_iter=200)\n",
    "\n",
    "lr.fit(x_train,y_train)\n",
    "lr_pred=lr.predict(x_test)\n"
   ]
  },
  {
   "cell_type": "code",
   "execution_count": 18,
   "id": "e4029907",
   "metadata": {},
   "outputs": [
    {
     "name": "stderr",
     "output_type": "stream",
     "text": [
      "c:\\Users\\raich\\anaconda3\\Lib\\site-packages\\joblib\\externals\\loky\\backend\\context.py:136: UserWarning: Could not find the number of physical cores for the following reason:\n",
      "[WinError 2] The system cannot find the file specified\n",
      "Returning the number of logical cores instead. You can silence this warning by setting LOKY_MAX_CPU_COUNT to the number of cores you want to use.\n",
      "  warnings.warn(\n",
      "  File \"c:\\Users\\raich\\anaconda3\\Lib\\site-packages\\joblib\\externals\\loky\\backend\\context.py\", line 257, in _count_physical_cores\n",
      "    cpu_info = subprocess.run(\n",
      "               ^^^^^^^^^^^^^^^\n",
      "  File \"c:\\Users\\raich\\anaconda3\\Lib\\subprocess.py\", line 548, in run\n",
      "    with Popen(*popenargs, **kwargs) as process:\n",
      "         ^^^^^^^^^^^^^^^^^^^^^^^^^^^\n",
      "  File \"c:\\Users\\raich\\anaconda3\\Lib\\subprocess.py\", line 1026, in __init__\n",
      "    self._execute_child(args, executable, preexec_fn, close_fds,\n",
      "  File \"c:\\Users\\raich\\anaconda3\\Lib\\subprocess.py\", line 1538, in _execute_child\n",
      "    hp, ht, pid, tid = _winapi.CreateProcess(executable, args,\n",
      "                       ^^^^^^^^^^^^^^^^^^^^^^^^^^^^^^^^^^^^^^^\n"
     ]
    }
   ],
   "source": [
    "knn=KNeighborsClassifier(n_neighbors=5)\n",
    "knn.fit(x_train,y_train)\n",
    "knn_pred=knn.predict(x_test)"
   ]
  },
  {
   "cell_type": "code",
   "execution_count": 19,
   "id": "0c100b85",
   "metadata": {},
   "outputs": [
    {
     "name": "stdout",
     "output_type": "stream",
     "text": [
      "classification report of logistic regression\n",
      "\n",
      "              precision    recall  f1-score   support\n",
      "\n",
      "       False       0.91      0.93      0.92       675\n",
      "        True       0.67      0.60      0.64       149\n",
      "\n",
      "    accuracy                           0.88       824\n",
      "   macro avg       0.79      0.77      0.78       824\n",
      "weighted avg       0.87      0.88      0.87       824\n",
      "\n",
      "classification report of knn clasification\n",
      "              precision    recall  f1-score   support\n",
      "\n",
      "       False       0.91      0.91      0.91       675\n",
      "        True       0.58      0.57      0.57       149\n",
      "\n",
      "    accuracy                           0.85       824\n",
      "   macro avg       0.74      0.74      0.74       824\n",
      "weighted avg       0.85      0.85      0.85       824\n",
      "\n"
     ]
    }
   ],
   "source": [
    "print('classification report of logistic regression\\n')\n",
    "print(classification_report(y_test,lr_pred))\n",
    "print('classification report of knn clasification')\n",
    "print(classification_report(y_test,knn_pred))"
   ]
  },
  {
   "cell_type": "code",
   "execution_count": 20,
   "id": "fc25081a",
   "metadata": {},
   "outputs": [
    {
     "name": "stdout",
     "output_type": "stream",
     "text": [
      "confusion report of logistic regression\n",
      "\n",
      "[[631  44]\n",
      " [ 59  90]]\n",
      "confusion report of knn clasification\n",
      "\n",
      "[[613  62]\n",
      " [ 64  85]]\n"
     ]
    }
   ],
   "source": [
    "print('confusion report of logistic regression\\n')\n",
    "print(confusion_matrix(y_test,lr_pred))\n",
    "print('confusion report of knn clasification\\n')\n",
    "print(confusion_matrix(y_test,knn_pred))"
   ]
  }
 ],
 "metadata": {
  "kernelspec": {
   "display_name": "base",
   "language": "python",
   "name": "python3"
  },
  "language_info": {
   "codemirror_mode": {
    "name": "ipython",
    "version": 3
   },
   "file_extension": ".py",
   "mimetype": "text/x-python",
   "name": "python",
   "nbconvert_exporter": "python",
   "pygments_lexer": "ipython3",
   "version": "3.12.7"
  }
 },
 "nbformat": 4,
 "nbformat_minor": 5
}
